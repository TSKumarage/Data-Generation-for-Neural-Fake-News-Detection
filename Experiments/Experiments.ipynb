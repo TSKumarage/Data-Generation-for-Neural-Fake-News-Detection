{
  "nbformat": 4,
  "nbformat_minor": 0,
  "metadata": {
    "colab": {
      "name": "Experiments.ipynb",
      "provenance": [],
      "toc_visible": true
    },
    "kernelspec": {
      "display_name": "Python 3",
      "name": "python3"
    },
    "language_info": {
      "name": "python"
    }
  },
  "cells": [
    {
      "cell_type": "markdown",
      "metadata": {
        "id": "Cg-QmYUxgX88"
      },
      "source": [
        "### Dataset Preparation"
      ]
    },
    {
      "cell_type": "code",
      "metadata": {
        "id": "a4WtrbszgHIf"
      },
      "source": [
        "import pandas as pd \n",
        "from tqdm import tqdm\n",
        "\n",
        "dataset_frame = pd.read_csv(\"/data/news_sources_dataset.csv\")\n"
      ],
      "execution_count": null,
      "outputs": []
    },
    {
      "cell_type": "code",
      "metadata": {
        "colab": {
          "base_uri": "https://localhost:8080/",
          "height": 538
        },
        "id": "hlNnA2XThW_5",
        "outputId": "7e89d06a-f3da-4ce6-9d79-a08accf913ba"
      },
      "source": [
        "dataset_frame.head()"
      ],
      "execution_count": null,
      "outputs": [
        {
          "output_type": "execute_result",
          "data": {
            "text/html": [
              "<div>\n",
              "<style scoped>\n",
              "    .dataframe tbody tr th:only-of-type {\n",
              "        vertical-align: middle;\n",
              "    }\n",
              "\n",
              "    .dataframe tbody tr th {\n",
              "        vertical-align: top;\n",
              "    }\n",
              "\n",
              "    .dataframe thead th {\n",
              "        text-align: right;\n",
              "    }\n",
              "</style>\n",
              "<table border=\"1\" class=\"dataframe\">\n",
              "  <thead>\n",
              "    <tr style=\"text-align: right;\">\n",
              "      <th></th>\n",
              "      <th>title</th>\n",
              "      <th>text</th>\n",
              "      <th>authors</th>\n",
              "      <th>Topic label</th>\n",
              "      <th>url</th>\n",
              "      <th>publish_date</th>\n",
              "      <th>domain</th>\n",
              "      <th>summary</th>\n",
              "      <th>top_ps</th>\n",
              "      <th>gens_article</th>\n",
              "      <th>gensraw_article</th>\n",
              "      <th>probs_article</th>\n",
              "    </tr>\n",
              "  </thead>\n",
              "  <tbody>\n",
              "    <tr>\n",
              "      <th>0</th>\n",
              "      <td>Big Tech vs The Left: How Facebook (almost) bl...</td>\n",
              "      <td>Although most of the complaints of censorship ...</td>\n",
              "      <td>['Harry Halpin']</td>\n",
              "      <td>Climate Change</td>\n",
              "      <td>https://ceasefiremagazine.co.uk/big-tech-left-...</td>\n",
              "      <td>09-30-2020</td>\n",
              "      <td>ceasefiremagazine.co.uk</td>\n",
              "      <td>Big Tech vs The Left: How Facebook (almost) bl...</td>\n",
              "      <td>[0.949999988079071]</td>\n",
              "      <td>On this podcast, Tom Lennon, a professor of hi...</td>\n",
              "      <td>[[2203, 429, 9906, 12, 4187, 37471, 12, 258, 6...</td>\n",
              "      <td>[[0.016584556549787, 0.008374096825718, 0.0036...</td>\n",
              "    </tr>\n",
              "    <tr>\n",
              "      <th>1</th>\n",
              "      <td>Tiger King, COVID-19, and the Nature of Work</td>\n",
              "      <td>(Credit: Netflix)Working for Tiger King’s Joe ...</td>\n",
              "      <td>['Mareile Pfannebecker ', 'James A. Smith']</td>\n",
              "      <td>COVID 19</td>\n",
              "      <td>https://ceasefiremagazine.co.uk/tiger-king-cov...</td>\n",
              "      <td>05-20-2020</td>\n",
              "      <td>ceasefiremagazine.co.uk</td>\n",
              "      <td>Tiger King, COVID-19, and the Nature of Work</td>\n",
              "      <td>[0.949999988079071]</td>\n",
              "      <td>Tiger King Coeval Revision, 2010\\nReviewed by ...</td>\n",
              "      <td>[[52, 8255, 2678, 1767, 18207, 46605, 12, 3051...</td>\n",
              "      <td>[[0.06036040186882, 0.9643138051033021, 0.8816...</td>\n",
              "    </tr>\n",
              "    <tr>\n",
              "      <th>2</th>\n",
              "      <td>Covid-19 is hitting Britain’s BAME communities...</td>\n",
              "      <td>In its promotion of the ‘herd immunity’ strate...</td>\n",
              "      <td>['Roxy Legane']</td>\n",
              "      <td>COVID 19</td>\n",
              "      <td>https://ceasefiremagazine.co.uk/covid-19-hitti...</td>\n",
              "      <td>04-09-2020</td>\n",
              "      <td>ceasefiremagazine.co.uk</td>\n",
              "      <td>Covid-19 is hitting Britain’s BAME communities...</td>\n",
              "      <td>[0.949999988079071]</td>\n",
              "      <td>New research has revealed how white people liv...</td>\n",
              "      <td>[[3792, 2268, 469, 4603, 704, 2331, 662, 2878,...</td>\n",
              "      <td>[[0.008890483528375001, 0.6460187435150141, 0....</td>\n",
              "    </tr>\n",
              "    <tr>\n",
              "      <th>3</th>\n",
              "      <td>Too poor to stay in? State responses to COVID-...</td>\n",
              "      <td>Over the past week, we all have seen a dramati...</td>\n",
              "      <td>['Sabrina Tucci']</td>\n",
              "      <td>COVID 19</td>\n",
              "      <td>https://ceasefiremagazine.co.uk/poor-stay-in-s...</td>\n",
              "      <td>03-22-2020</td>\n",
              "      <td>ceasefiremagazine.co.uk</td>\n",
              "      <td>Too poor to stay in? State responses to COVID-...</td>\n",
              "      <td>[0.949999988079071]</td>\n",
              "      <td>The 28th General Assembly of the International...</td>\n",
              "      <td>[[465, 2580, 401, 3612, 10007, 287, 263, 4038,...</td>\n",
              "      <td>[[0.143003180623054, 0.000192927880561, 0.3438...</td>\n",
              "    </tr>\n",
              "    <tr>\n",
              "      <th>4</th>\n",
              "      <td>The cost of Covid: Britain cannot afford more ...</td>\n",
              "      <td>The Covid-19 pandemic has severely damaged the...</td>\n",
              "      <td>['Taj Ali']</td>\n",
              "      <td>COVID 19</td>\n",
              "      <td>https://ceasefiremagazine.co.uk/coronavirus-co...</td>\n",
              "      <td>10-31-2020</td>\n",
              "      <td>ceasefiremagazine.co.uk</td>\n",
              "      <td>The cost of Covid: Britain cannot afford more ...</td>\n",
              "      <td>[0.949999988079071]</td>\n",
              "      <td>The Institute for Fiscal Studies (IFS) has war...</td>\n",
              "      <td>[[465, 5137, 330, 33523, 10423, 358, 5065, 51,...</td>\n",
              "      <td>[[0.177748695015907, 0.005321775097399, 0.8184...</td>\n",
              "    </tr>\n",
              "  </tbody>\n",
              "</table>\n",
              "</div>"
            ],
            "text/plain": [
              "                                               title  ...                                      probs_article\n",
              "0  Big Tech vs The Left: How Facebook (almost) bl...  ...  [[0.016584556549787, 0.008374096825718, 0.0036...\n",
              "1       Tiger King, COVID-19, and the Nature of Work  ...  [[0.06036040186882, 0.9643138051033021, 0.8816...\n",
              "2  Covid-19 is hitting Britain’s BAME communities...  ...  [[0.008890483528375001, 0.6460187435150141, 0....\n",
              "3  Too poor to stay in? State responses to COVID-...  ...  [[0.143003180623054, 0.000192927880561, 0.3438...\n",
              "4  The cost of Covid: Britain cannot afford more ...  ...  [[0.177748695015907, 0.005321775097399, 0.8184...\n",
              "\n",
              "[5 rows x 12 columns]"
            ]
          },
          "metadata": {
            "tags": []
          },
          "execution_count": 3
        }
      ]
    },
    {
      "cell_type": "code",
      "metadata": {
        "colab": {
          "base_uri": "https://localhost:8080/"
        },
        "id": "KmHI0GEEh3Ju",
        "outputId": "778ef312-6ad7-404d-990e-a2ea907f8d49"
      },
      "source": [
        "import numpy as np\n",
        "human_articles = dataset_frame[['title', 'text']]\n",
        "human_articles[\"label\"] = np.zeros(len(human_articles))\n",
        "\n",
        "machine_articles = dataset_frame[['title', 'gens_article']]\n",
        "machine_articles[\"label\"] = np.ones(len(machine_articles))\n",
        "\n",
        "human_articles.columns = ['title', 'content', 'label']\n",
        "machine_articles.columns = ['title', 'content', 'label']"
      ],
      "execution_count": null,
      "outputs": [
        {
          "output_type": "stream",
          "text": [
            "/usr/local/lib/python3.7/dist-packages/ipykernel_launcher.py:3: SettingWithCopyWarning: \n",
            "A value is trying to be set on a copy of a slice from a DataFrame.\n",
            "Try using .loc[row_indexer,col_indexer] = value instead\n",
            "\n",
            "See the caveats in the documentation: https://pandas.pydata.org/pandas-docs/stable/user_guide/indexing.html#returning-a-view-versus-a-copy\n",
            "  This is separate from the ipykernel package so we can avoid doing imports until\n",
            "/usr/local/lib/python3.7/dist-packages/ipykernel_launcher.py:6: SettingWithCopyWarning: \n",
            "A value is trying to be set on a copy of a slice from a DataFrame.\n",
            "Try using .loc[row_indexer,col_indexer] = value instead\n",
            "\n",
            "See the caveats in the documentation: https://pandas.pydata.org/pandas-docs/stable/user_guide/indexing.html#returning-a-view-versus-a-copy\n",
            "  \n"
          ],
          "name": "stderr"
        }
      ]
    },
    {
      "cell_type": "code",
      "metadata": {
        "colab": {
          "base_uri": "https://localhost:8080/"
        },
        "id": "jEVxC75ojDdi",
        "outputId": "4744a555-21bd-4a8b-edb6-be144c177a20"
      },
      "source": [
        "machine_articles[\"content\"] = machine_articles.content.apply(lambda x: str(x))\n",
        "human_articles[\"content\"] = human_articles.content.apply(lambda x: str(x))\n",
        "\n",
        "machine_articles[\"label\"] = machine_articles.label.apply(lambda x: int(x))\n",
        "human_articles[\"label\"] = human_articles.label.apply(lambda x: int(x))"
      ],
      "execution_count": null,
      "outputs": [
        {
          "output_type": "stream",
          "text": [
            "/usr/local/lib/python3.7/dist-packages/ipykernel_launcher.py:1: SettingWithCopyWarning: \n",
            "A value is trying to be set on a copy of a slice from a DataFrame.\n",
            "Try using .loc[row_indexer,col_indexer] = value instead\n",
            "\n",
            "See the caveats in the documentation: https://pandas.pydata.org/pandas-docs/stable/user_guide/indexing.html#returning-a-view-versus-a-copy\n",
            "  \"\"\"Entry point for launching an IPython kernel.\n",
            "/usr/local/lib/python3.7/dist-packages/ipykernel_launcher.py:2: SettingWithCopyWarning: \n",
            "A value is trying to be set on a copy of a slice from a DataFrame.\n",
            "Try using .loc[row_indexer,col_indexer] = value instead\n",
            "\n",
            "See the caveats in the documentation: https://pandas.pydata.org/pandas-docs/stable/user_guide/indexing.html#returning-a-view-versus-a-copy\n",
            "  \n",
            "/usr/local/lib/python3.7/dist-packages/ipykernel_launcher.py:4: SettingWithCopyWarning: \n",
            "A value is trying to be set on a copy of a slice from a DataFrame.\n",
            "Try using .loc[row_indexer,col_indexer] = value instead\n",
            "\n",
            "See the caveats in the documentation: https://pandas.pydata.org/pandas-docs/stable/user_guide/indexing.html#returning-a-view-versus-a-copy\n",
            "  after removing the cwd from sys.path.\n",
            "/usr/local/lib/python3.7/dist-packages/ipykernel_launcher.py:5: SettingWithCopyWarning: \n",
            "A value is trying to be set on a copy of a slice from a DataFrame.\n",
            "Try using .loc[row_indexer,col_indexer] = value instead\n",
            "\n",
            "See the caveats in the documentation: https://pandas.pydata.org/pandas-docs/stable/user_guide/indexing.html#returning-a-view-versus-a-copy\n",
            "  \"\"\"\n"
          ],
          "name": "stderr"
        }
      ]
    },
    {
      "cell_type": "code",
      "metadata": {
        "id": "9lczkTi8jMpN"
      },
      "source": [
        "full_dataset = human_articles.append(machine_articles)"
      ],
      "execution_count": null,
      "outputs": []
    },
    {
      "cell_type": "code",
      "metadata": {
        "colab": {
          "base_uri": "https://localhost:8080/",
          "height": 206
        },
        "id": "MP0T1NckjyUW",
        "outputId": "b29c97e6-89f6-4bf9-8537-ac420e7485cf"
      },
      "source": [
        "full_dataset.head()"
      ],
      "execution_count": null,
      "outputs": [
        {
          "output_type": "execute_result",
          "data": {
            "text/html": [
              "<div>\n",
              "<style scoped>\n",
              "    .dataframe tbody tr th:only-of-type {\n",
              "        vertical-align: middle;\n",
              "    }\n",
              "\n",
              "    .dataframe tbody tr th {\n",
              "        vertical-align: top;\n",
              "    }\n",
              "\n",
              "    .dataframe thead th {\n",
              "        text-align: right;\n",
              "    }\n",
              "</style>\n",
              "<table border=\"1\" class=\"dataframe\">\n",
              "  <thead>\n",
              "    <tr style=\"text-align: right;\">\n",
              "      <th></th>\n",
              "      <th>title</th>\n",
              "      <th>content</th>\n",
              "      <th>label</th>\n",
              "    </tr>\n",
              "  </thead>\n",
              "  <tbody>\n",
              "    <tr>\n",
              "      <th>4686</th>\n",
              "      <td>MOH removes 2 Covid-19 community cases after f...</td>\n",
              "      <td>SINGAPORE - The Ministry of Health (MOH) has r...</td>\n",
              "      <td>0</td>\n",
              "    </tr>\n",
              "    <tr>\n",
              "      <th>1339</th>\n",
              "      <td>As carbon recedes due to coronavirus, methane ...</td>\n",
              "      <td>By 2022, the prevalence of liquefied methane a...</td>\n",
              "      <td>1</td>\n",
              "    </tr>\n",
              "    <tr>\n",
              "      <th>11833</th>\n",
              "      <td>TPP slams budget report</td>\n",
              "      <td>The Cabinet’s four-page budget report on a COV...</td>\n",
              "      <td>0</td>\n",
              "    </tr>\n",
              "    <tr>\n",
              "      <th>11132</th>\n",
              "      <td>Recovering UK PM Johnson 'in good shape'</td>\n",
              "      <td>LONDON: British Prime Minister Boris Johnson, ...</td>\n",
              "      <td>0</td>\n",
              "    </tr>\n",
              "    <tr>\n",
              "      <th>7034</th>\n",
              "      <td>IFC inks deal to close gender gap in private s...</td>\n",
              "      <td>By Egufe Salaheddin\\nAteras to Emaar Kingdom:\\...</td>\n",
              "      <td>1</td>\n",
              "    </tr>\n",
              "  </tbody>\n",
              "</table>\n",
              "</div>"
            ],
            "text/plain": [
              "                                                   title  ... label\n",
              "4686   MOH removes 2 Covid-19 community cases after f...  ...     0\n",
              "1339   As carbon recedes due to coronavirus, methane ...  ...     1\n",
              "11833                            TPP slams budget report  ...     0\n",
              "11132           Recovering UK PM Johnson 'in good shape'  ...     0\n",
              "7034   IFC inks deal to close gender gap in private s...  ...     1\n",
              "\n",
              "[5 rows x 3 columns]"
            ]
          },
          "metadata": {
            "tags": []
          },
          "execution_count": 12
        }
      ]
    },
    {
      "cell_type": "code",
      "metadata": {
        "id": "Hx_w8U9XkCLm"
      },
      "source": [
        "full_dataset = full_dataset.sample(frac=1)"
      ],
      "execution_count": null,
      "outputs": []
    },
    {
      "cell_type": "code",
      "metadata": {
        "id": "ea0A6Au7kfIq"
      },
      "source": [
        "full_dataset.to_csv(\"/content/drive/Shareddrives/DARPA/Datasets/Dataset Generation Insights/full_dataset.csv\", index=False)\n",
        "machine_articles.to_csv(\"/content/drive/Shareddrives/DARPA/Datasets/Dataset Generation Insights/machine_text.csv\", index=False)\n",
        "human_articles.to_csv(\"/content/drive/Shareddrives/DARPA/Datasets/Dataset Generation Insights/human_text.csv\", index=False)"
      ],
      "execution_count": null,
      "outputs": []
    },
    {
      "cell_type": "code",
      "metadata": {
        "id": "cZEp8IpZO-53"
      },
      "source": [
        "full_data = pd.read_csv(\"/content/drive/Shareddrives/DARPA/Datasets/Dataset Generation Insights/full_dataset.csv\")\n",
        "\n",
        "train, test = train_test_split(full_data, test_size=0.3, random_state=10, shuffle=False)\n",
        "test, valid = train_test_split(test, test_size=0.5, random_state=10, shuffle=False)\n",
        "\n",
        "train_df = pd.DataFrame(train)\n",
        "test_df = pd.DataFrame(test)\n",
        "valid_df = pd.DataFrame(valid)"
      ],
      "execution_count": null,
      "outputs": []
    },
    {
      "cell_type": "code",
      "metadata": {
        "colab": {
          "base_uri": "https://localhost:8080/"
        },
        "id": "hMmqcRmYaX6s",
        "outputId": "228c1d1a-f3c0-4cc2-a438-13242b29b1c8"
      },
      "source": [
        "import pandas as pd\n",
        "data_folder = \"/content/drive/Shareddrives/DARPA/Datasets/Dataset Generation Insights/\"\n",
        "full_data = pd.read_csv(data_folder + \"full_dataset.csv\")\n",
        "\n",
        "precentages = [0.05, 0.15, 0.3, 0.5, 0.75, 1]\n",
        "\n",
        "precentages = [0.20]\n",
        "\n",
        "for frac in precentages:\n",
        "  temp_dataset = full_data.sample(frac=frac)\n",
        "  print(\"Precentage: \", frac, \" Number of samples: \", len(temp_dataset))\n",
        "  print(temp_dataset[[\"content\", \"label\"]].groupby(\"label\").count())\n",
        "  print(\"\\n\")\n",
        "\n",
        "  # temp_dataset.to_csv(data_folder + \"full_dataset_\"+str(int(frac*100))+\"pc.csv\")\n",
        "\n",
        "  data_folder = \"/content/drive/Shareddrives/DARPA/Datasets/Dataset Generation Insights/Source Split/Linguistic Clusters/\"\n",
        "\n",
        "  TYPE = \"inter_cluster_4_0123\" ## change this as needed\n",
        "\n",
        "  temp_dataset.to_csv(data_folder +TYPE+\".csv\")\n",
        "\n",
        "  "
      ],
      "execution_count": null,
      "outputs": [
        {
          "output_type": "stream",
          "text": [
            "Precentage:  0.2  Number of samples:  5771\n",
            "       content\n",
            "label         \n",
            "0         2865\n",
            "1         2905\n",
            "\n",
            "\n"
          ],
          "name": "stdout"
        }
      ]
    },
    {
      "cell_type": "markdown",
      "metadata": {
        "id": "qeOmLi6VFJQj"
      },
      "source": [
        "### Source Grouping"
      ]
    },
    {
      "cell_type": "code",
      "metadata": {
        "colab": {
          "base_uri": "https://localhost:8080/",
          "height": 204
        },
        "id": "iM5gzVdJEueU",
        "outputId": "0ca83f23-b0dc-44fb-966d-babd5d45b48e"
      },
      "source": [
        "import pandas as pd \n",
        "from tqdm import tqdm\n",
        "\n",
        "\n",
        "full_data = pd.read_csv(\"/content/drive/Shareddrives/DARPA/Datasets/Dataset Generation Insights/full_dataset_75pc.csv\")\n",
        "\n",
        "full_data.head()"
      ],
      "execution_count": null,
      "outputs": [
        {
          "output_type": "execute_result",
          "data": {
            "text/html": [
              "<div>\n",
              "<style scoped>\n",
              "    .dataframe tbody tr th:only-of-type {\n",
              "        vertical-align: middle;\n",
              "    }\n",
              "\n",
              "    .dataframe tbody tr th {\n",
              "        vertical-align: top;\n",
              "    }\n",
              "\n",
              "    .dataframe thead th {\n",
              "        text-align: right;\n",
              "    }\n",
              "</style>\n",
              "<table border=\"1\" class=\"dataframe\">\n",
              "  <thead>\n",
              "    <tr style=\"text-align: right;\">\n",
              "      <th></th>\n",
              "      <th>Unnamed: 0</th>\n",
              "      <th>title</th>\n",
              "      <th>content</th>\n",
              "      <th>label</th>\n",
              "    </tr>\n",
              "  </thead>\n",
              "  <tbody>\n",
              "    <tr>\n",
              "      <th>0</th>\n",
              "      <td>3137</td>\n",
              "      <td>US voters go to the polls</td>\n",
              "      <td>Reuters Television\\nFort Lauderdale, Georgia –...</td>\n",
              "      <td>1</td>\n",
              "    </tr>\n",
              "    <tr>\n",
              "      <th>1</th>\n",
              "      <td>25685</td>\n",
              "      <td>Russia Corona vaccine: WHO says rigorous safet...</td>\n",
              "      <td>GENEVA: The World Health Organization said any...</td>\n",
              "      <td>0</td>\n",
              "    </tr>\n",
              "    <tr>\n",
              "      <th>2</th>\n",
              "      <td>23085</td>\n",
              "      <td>Asian cities urged to bolster defences against...</td>\n",
              "      <td>Human activity is growing more globalised and ...</td>\n",
              "      <td>1</td>\n",
              "    </tr>\n",
              "    <tr>\n",
              "      <th>3</th>\n",
              "      <td>21237</td>\n",
              "      <td>Egypt’s Dar al-Iftaa: Alms-giving permissible ...</td>\n",
              "      <td>CAIRO - 16 May 2020: Egypt’s Dar Al-Iftaa issu...</td>\n",
              "      <td>0</td>\n",
              "    </tr>\n",
              "    <tr>\n",
              "      <th>4</th>\n",
              "      <td>11833</td>\n",
              "      <td>Coronavirus: AI tool developed to detect abnor...</td>\n",
              "      <td>We have seen cases of severe underpinnings ari...</td>\n",
              "      <td>1</td>\n",
              "    </tr>\n",
              "  </tbody>\n",
              "</table>\n",
              "</div>"
            ],
            "text/plain": [
              "   Unnamed: 0  ... label\n",
              "0        3137  ...     1\n",
              "1       25685  ...     0\n",
              "2       23085  ...     1\n",
              "3       21237  ...     0\n",
              "4       11833  ...     1\n",
              "\n",
              "[5 rows x 4 columns]"
            ]
          },
          "metadata": {
            "tags": []
          },
          "execution_count": 1
        }
      ]
    },
    {
      "cell_type": "code",
      "metadata": {
        "id": "S2ojph8QJUlm"
      },
      "source": [
        "import pandas as pd \n",
        "from tqdm import tqdm\n",
        "\n",
        "dataset_frame = pd.read_csv(\"/content/drive/Shareddrives/DARPA/Datasets/Eval1Sources/eval1_sources_data.csv\")\n"
      ],
      "execution_count": null,
      "outputs": []
    },
    {
      "cell_type": "code",
      "metadata": {
        "colab": {
          "base_uri": "https://localhost:8080/"
        },
        "id": "1jBbjNhAJc3K",
        "outputId": "92eee9e0-051d-4451-da05-d91d89e3aa25"
      },
      "source": [
        "import numpy as np\n",
        "human_articles = dataset_frame[['title', 'text', 'domain']]\n",
        "human_articles[\"label\"] = np.zeros(len(human_articles))\n",
        "\n",
        "machine_articles = dataset_frame[['title', 'gens_article', 'domain']]\n",
        "machine_articles[\"label\"] = np.ones(len(machine_articles))\n",
        "\n",
        "human_articles.columns = ['title', 'content', 'domain', 'label']\n",
        "machine_articles.columns = ['title', 'content', 'domain', 'label']"
      ],
      "execution_count": null,
      "outputs": [
        {
          "output_type": "stream",
          "text": [
            "/usr/local/lib/python3.7/dist-packages/ipykernel_launcher.py:3: SettingWithCopyWarning: \n",
            "A value is trying to be set on a copy of a slice from a DataFrame.\n",
            "Try using .loc[row_indexer,col_indexer] = value instead\n",
            "\n",
            "See the caveats in the documentation: https://pandas.pydata.org/pandas-docs/stable/user_guide/indexing.html#returning-a-view-versus-a-copy\n",
            "  This is separate from the ipykernel package so we can avoid doing imports until\n",
            "/usr/local/lib/python3.7/dist-packages/ipykernel_launcher.py:6: SettingWithCopyWarning: \n",
            "A value is trying to be set on a copy of a slice from a DataFrame.\n",
            "Try using .loc[row_indexer,col_indexer] = value instead\n",
            "\n",
            "See the caveats in the documentation: https://pandas.pydata.org/pandas-docs/stable/user_guide/indexing.html#returning-a-view-versus-a-copy\n",
            "  \n"
          ],
          "name": "stderr"
        }
      ]
    },
    {
      "cell_type": "code",
      "metadata": {
        "colab": {
          "base_uri": "https://localhost:8080/"
        },
        "id": "6QswvCZLJuSS",
        "outputId": "6050c8e9-b152-433a-b225-273179b51270"
      },
      "source": [
        "machine_articles[\"content\"] = machine_articles.content.apply(lambda x: str(x))\n",
        "human_articles[\"content\"] = human_articles.content.apply(lambda x: str(x))\n",
        "\n",
        "machine_articles[\"label\"] = machine_articles.label.apply(lambda x: int(x))\n",
        "human_articles[\"label\"] = human_articles.label.apply(lambda x: int(x))"
      ],
      "execution_count": null,
      "outputs": [
        {
          "output_type": "stream",
          "text": [
            "/usr/local/lib/python3.7/dist-packages/ipykernel_launcher.py:1: SettingWithCopyWarning: \n",
            "A value is trying to be set on a copy of a slice from a DataFrame.\n",
            "Try using .loc[row_indexer,col_indexer] = value instead\n",
            "\n",
            "See the caveats in the documentation: https://pandas.pydata.org/pandas-docs/stable/user_guide/indexing.html#returning-a-view-versus-a-copy\n",
            "  \"\"\"Entry point for launching an IPython kernel.\n",
            "/usr/local/lib/python3.7/dist-packages/ipykernel_launcher.py:2: SettingWithCopyWarning: \n",
            "A value is trying to be set on a copy of a slice from a DataFrame.\n",
            "Try using .loc[row_indexer,col_indexer] = value instead\n",
            "\n",
            "See the caveats in the documentation: https://pandas.pydata.org/pandas-docs/stable/user_guide/indexing.html#returning-a-view-versus-a-copy\n",
            "  \n",
            "/usr/local/lib/python3.7/dist-packages/ipykernel_launcher.py:4: SettingWithCopyWarning: \n",
            "A value is trying to be set on a copy of a slice from a DataFrame.\n",
            "Try using .loc[row_indexer,col_indexer] = value instead\n",
            "\n",
            "See the caveats in the documentation: https://pandas.pydata.org/pandas-docs/stable/user_guide/indexing.html#returning-a-view-versus-a-copy\n",
            "  after removing the cwd from sys.path.\n",
            "/usr/local/lib/python3.7/dist-packages/ipykernel_launcher.py:5: SettingWithCopyWarning: \n",
            "A value is trying to be set on a copy of a slice from a DataFrame.\n",
            "Try using .loc[row_indexer,col_indexer] = value instead\n",
            "\n",
            "See the caveats in the documentation: https://pandas.pydata.org/pandas-docs/stable/user_guide/indexing.html#returning-a-view-versus-a-copy\n",
            "  \"\"\"\n"
          ],
          "name": "stderr"
        }
      ]
    },
    {
      "cell_type": "code",
      "metadata": {
        "id": "vqwxYpEaKW5k"
      },
      "source": [
        "full_dataset = human_articles.append(machine_articles)"
      ],
      "execution_count": null,
      "outputs": []
    },
    {
      "cell_type": "code",
      "metadata": {
        "id": "4pSwmXpjZ5Me"
      },
      "source": [
        "full_dataset = full_dataset[~full_dataset.domain.str.contains(\"bbc.co.uk\")]\n",
        "full_dataset = full_dataset[~full_dataset.domain.str.contains(\"ceasefiremagazine.co.uk\")]"
      ],
      "execution_count": null,
      "outputs": []
    },
    {
      "cell_type": "code",
      "metadata": {
        "id": "PyiKkKz2Lcss"
      },
      "source": [
        "total_num_articles = len(full_dataset)"
      ],
      "execution_count": null,
      "outputs": []
    },
    {
      "cell_type": "code",
      "metadata": {
        "colab": {
          "base_uri": "https://localhost:8080/"
        },
        "id": "OSqXLjR7PQHM",
        "outputId": "12a8261e-f7ad-4d67-c66f-e3aa5c2c9c8c"
      },
      "source": [
        "total_num_articles"
      ],
      "execution_count": null,
      "outputs": [
        {
          "output_type": "execute_result",
          "data": {
            "text/plain": [
              "28802"
            ]
          },
          "metadata": {
            "tags": []
          },
          "execution_count": 12
        }
      ]
    },
    {
      "cell_type": "code",
      "metadata": {
        "colab": {
          "base_uri": "https://localhost:8080/",
          "height": 390
        },
        "id": "Oyq_XPbhKa1e",
        "outputId": "d31ccd60-93d0-4d1c-c677-d1baae5c5bf7"
      },
      "source": [
        "full_dataset.groupby(['domain']).count()"
      ],
      "execution_count": null,
      "outputs": [
        {
          "output_type": "execute_result",
          "data": {
            "text/html": [
              "<div>\n",
              "<style scoped>\n",
              "    .dataframe tbody tr th:only-of-type {\n",
              "        vertical-align: middle;\n",
              "    }\n",
              "\n",
              "    .dataframe tbody tr th {\n",
              "        vertical-align: top;\n",
              "    }\n",
              "\n",
              "    .dataframe thead th {\n",
              "        text-align: right;\n",
              "    }\n",
              "</style>\n",
              "<table border=\"1\" class=\"dataframe\">\n",
              "  <thead>\n",
              "    <tr style=\"text-align: right;\">\n",
              "      <th></th>\n",
              "      <th>title</th>\n",
              "      <th>content</th>\n",
              "      <th>label</th>\n",
              "    </tr>\n",
              "    <tr>\n",
              "      <th>domain</th>\n",
              "      <th></th>\n",
              "      <th></th>\n",
              "      <th></th>\n",
              "    </tr>\n",
              "  </thead>\n",
              "  <tbody>\n",
              "    <tr>\n",
              "      <th>21stcenturywire.com</th>\n",
              "      <td>514</td>\n",
              "      <td>514</td>\n",
              "      <td>514</td>\n",
              "    </tr>\n",
              "    <tr>\n",
              "      <th>aljazeera.com</th>\n",
              "      <td>290</td>\n",
              "      <td>290</td>\n",
              "      <td>290</td>\n",
              "    </tr>\n",
              "    <tr>\n",
              "      <th>americanfreepress.net</th>\n",
              "      <td>906</td>\n",
              "      <td>906</td>\n",
              "      <td>906</td>\n",
              "    </tr>\n",
              "    <tr>\n",
              "      <th>canadiandimension.com</th>\n",
              "      <td>338</td>\n",
              "      <td>338</td>\n",
              "      <td>338</td>\n",
              "    </tr>\n",
              "    <tr>\n",
              "      <th>egypttoday.com</th>\n",
              "      <td>2098</td>\n",
              "      <td>2098</td>\n",
              "      <td>2098</td>\n",
              "    </tr>\n",
              "    <tr>\n",
              "      <th>france24.com</th>\n",
              "      <td>918</td>\n",
              "      <td>918</td>\n",
              "      <td>918</td>\n",
              "    </tr>\n",
              "    <tr>\n",
              "      <th>rt.com</th>\n",
              "      <td>952</td>\n",
              "      <td>952</td>\n",
              "      <td>952</td>\n",
              "    </tr>\n",
              "    <tr>\n",
              "      <th>straitstimes.com</th>\n",
              "      <td>10900</td>\n",
              "      <td>10900</td>\n",
              "      <td>10900</td>\n",
              "    </tr>\n",
              "    <tr>\n",
              "      <th>taipeitimes.com</th>\n",
              "      <td>5662</td>\n",
              "      <td>5662</td>\n",
              "      <td>5662</td>\n",
              "    </tr>\n",
              "    <tr>\n",
              "      <th>timesofindia.indiatimes.com</th>\n",
              "      <td>6224</td>\n",
              "      <td>6224</td>\n",
              "      <td>6224</td>\n",
              "    </tr>\n",
              "  </tbody>\n",
              "</table>\n",
              "</div>"
            ],
            "text/plain": [
              "                             title  content  label\n",
              "domain                                            \n",
              "21stcenturywire.com            514      514    514\n",
              "aljazeera.com                  290      290    290\n",
              "americanfreepress.net          906      906    906\n",
              "canadiandimension.com          338      338    338\n",
              "egypttoday.com                2098     2098   2098\n",
              "france24.com                   918      918    918\n",
              "rt.com                         952      952    952\n",
              "straitstimes.com             10900    10900  10900\n",
              "taipeitimes.com               5662     5662   5662\n",
              "timesofindia.indiatimes.com   6224     6224   6224"
            ]
          },
          "metadata": {
            "tags": []
          },
          "execution_count": 13
        }
      ]
    },
    {
      "cell_type": "code",
      "metadata": {
        "colab": {
          "base_uri": "https://localhost:8080/",
          "height": 390
        },
        "id": "BPdMP1DpMAcj",
        "outputId": "7b9c99d9-bca1-4279-bdd5-eb2ab9d53a32"
      },
      "source": [
        "(full_dataset[[\"domain\",\"content\"]].groupby(['domain']).count()/total_num_articles)*100"
      ],
      "execution_count": null,
      "outputs": [
        {
          "output_type": "execute_result",
          "data": {
            "text/html": [
              "<div>\n",
              "<style scoped>\n",
              "    .dataframe tbody tr th:only-of-type {\n",
              "        vertical-align: middle;\n",
              "    }\n",
              "\n",
              "    .dataframe tbody tr th {\n",
              "        vertical-align: top;\n",
              "    }\n",
              "\n",
              "    .dataframe thead th {\n",
              "        text-align: right;\n",
              "    }\n",
              "</style>\n",
              "<table border=\"1\" class=\"dataframe\">\n",
              "  <thead>\n",
              "    <tr style=\"text-align: right;\">\n",
              "      <th></th>\n",
              "      <th>content</th>\n",
              "    </tr>\n",
              "    <tr>\n",
              "      <th>domain</th>\n",
              "      <th></th>\n",
              "    </tr>\n",
              "  </thead>\n",
              "  <tbody>\n",
              "    <tr>\n",
              "      <th>21stcenturywire.com</th>\n",
              "      <td>1.784598</td>\n",
              "    </tr>\n",
              "    <tr>\n",
              "      <th>aljazeera.com</th>\n",
              "      <td>1.006875</td>\n",
              "    </tr>\n",
              "    <tr>\n",
              "      <th>americanfreepress.net</th>\n",
              "      <td>3.145615</td>\n",
              "    </tr>\n",
              "    <tr>\n",
              "      <th>canadiandimension.com</th>\n",
              "      <td>1.173530</td>\n",
              "    </tr>\n",
              "    <tr>\n",
              "      <th>egypttoday.com</th>\n",
              "      <td>7.284216</td>\n",
              "    </tr>\n",
              "    <tr>\n",
              "      <th>france24.com</th>\n",
              "      <td>3.187279</td>\n",
              "    </tr>\n",
              "    <tr>\n",
              "      <th>rt.com</th>\n",
              "      <td>3.305326</td>\n",
              "    </tr>\n",
              "    <tr>\n",
              "      <th>straitstimes.com</th>\n",
              "      <td>37.844594</td>\n",
              "    </tr>\n",
              "    <tr>\n",
              "      <th>taipeitimes.com</th>\n",
              "      <td>19.658357</td>\n",
              "    </tr>\n",
              "    <tr>\n",
              "      <th>timesofindia.indiatimes.com</th>\n",
              "      <td>21.609610</td>\n",
              "    </tr>\n",
              "  </tbody>\n",
              "</table>\n",
              "</div>"
            ],
            "text/plain": [
              "                               content\n",
              "domain                                \n",
              "21stcenturywire.com           1.784598\n",
              "aljazeera.com                 1.006875\n",
              "americanfreepress.net         3.145615\n",
              "canadiandimension.com         1.173530\n",
              "egypttoday.com                7.284216\n",
              "france24.com                  3.187279\n",
              "rt.com                        3.305326\n",
              "straitstimes.com             37.844594\n",
              "taipeitimes.com              19.658357\n",
              "timesofindia.indiatimes.com  21.609610"
            ]
          },
          "metadata": {
            "tags": []
          },
          "execution_count": 14
        }
      ]
    },
    {
      "cell_type": "code",
      "metadata": {
        "colab": {
          "base_uri": "https://localhost:8080/"
        },
        "id": "aww0XFMCP3-L",
        "outputId": "a6cc17cc-4201-4405-c8c8-68f4c8439777"
      },
      "source": [
        "full_dataset.groupby('domain').size().sort_values(ascending=False)"
      ],
      "execution_count": null,
      "outputs": [
        {
          "output_type": "execute_result",
          "data": {
            "text/plain": [
              "domain\n",
              "straitstimes.com               10900\n",
              "timesofindia.indiatimes.com     6224\n",
              "taipeitimes.com                 5662\n",
              "egypttoday.com                  2098\n",
              "rt.com                           952\n",
              "france24.com                     918\n",
              "americanfreepress.net            906\n",
              "21stcenturywire.com              514\n",
              "canadiandimension.com            338\n",
              "aljazeera.com                    290\n",
              "dtype: int64"
            ]
          },
          "metadata": {
            "tags": []
          },
          "execution_count": 10
        }
      ]
    },
    {
      "cell_type": "code",
      "metadata": {
        "id": "-8huszlDOA7c"
      },
      "source": [
        "size_groups = full_dataset.groupby(['domain']).size().sort_values(ascending=False)"
      ],
      "execution_count": null,
      "outputs": []
    },
    {
      "cell_type": "code",
      "metadata": {
        "id": "3NGw_IEbQKpD"
      },
      "source": [
        "group_sizes = size_groups.index.to_list()"
      ],
      "execution_count": null,
      "outputs": []
    },
    {
      "cell_type": "code",
      "metadata": {
        "id": "9MTfA82UK2fM"
      },
      "source": [
        "source_group = full_dataset.groupby(['domain'])"
      ],
      "execution_count": null,
      "outputs": []
    },
    {
      "cell_type": "code",
      "metadata": {
        "colab": {
          "base_uri": "https://localhost:8080/"
        },
        "id": "nh31jYOkX6Aw",
        "outputId": "7709ab2d-64d0-44db-8f33-ed186a0237e9"
      },
      "source": [
        "source_group"
      ],
      "execution_count": null,
      "outputs": [
        {
          "output_type": "execute_result",
          "data": {
            "text/plain": [
              "<pandas.core.groupby.generic.DataFrameGroupBy object at 0x7f60e5d96710>"
            ]
          },
          "metadata": {
            "tags": []
          },
          "execution_count": 139
        }
      ]
    },
    {
      "cell_type": "code",
      "metadata": {
        "id": "DS8kE4-_LAwL"
      },
      "source": [
        "data_folder = \"/content/drive/Shareddrives/DARPA/Datasets/Dataset Generation Insights/Source Split/50 Percent/\"\n",
        "\n",
        "number_of_sources = 0\n",
        "\n",
        "threshold_pc = 50\n",
        "\n",
        "threshold_size = int(total_num_articles*0.50)\n",
        "\n",
        "dataframe = pd.DataFrame()\n",
        "\n",
        "for source in group_sizes:\n",
        "  number_of_sources +=1\n",
        "\n",
        "  for group in source_group:\n",
        "    if source in group[0]:\n",
        "      if dataframe.empty:\n",
        "        dataframe = group[1]\n",
        "      else:\n",
        "        dataframe = dataframe.append(group[1])\n",
        "\n",
        "      if len(dataframe) > threshold_size:\n",
        "        temp_data = dataframe.sample(n=threshold_size)\n",
        "        \n",
        "        # print(temp_data.groupby(\"label\").count())\n",
        "        temp_data.to_csv(data_folder + \"With Domain Label/full_data_\" + str(number_of_sources) + \"src.csv\")\n",
        "        temp_data[['title', 'content', 'label']].to_csv(data_folder + \"full_data_\" + str(number_of_sources) + \"src.csv\")"
      ],
      "execution_count": null,
      "outputs": []
    },
    {
      "cell_type": "markdown",
      "metadata": {
        "id": "TdB8_8t63Sn_"
      },
      "source": [
        "## Lingustic Analysis"
      ]
    },
    {
      "cell_type": "code",
      "metadata": {
        "id": "dznQxumlBzvH"
      },
      "source": [
        "import pandas as pd \n",
        "from tqdm import tqdm\n",
        "\n",
        "dataset_frame = pd.read_csv(\"/data/news_sources_dataset.csv\")\n"
      ],
      "execution_count": null,
      "outputs": []
    },
    {
      "cell_type": "code",
      "metadata": {
        "colab": {
          "base_uri": "https://localhost:8080/"
        },
        "id": "AywrjR4GB60f",
        "outputId": "e5673e8f-6db0-4769-a10e-6b516085ac3c"
      },
      "source": [
        "import numpy as np\n",
        "human_articles = dataset_frame[['title', 'text', 'domain']]\n",
        "human_articles[\"label\"] = np.zeros(len(human_articles))\n",
        "\n",
        "machine_articles = dataset_frame[['title', 'gens_article', 'domain']]\n",
        "machine_articles[\"label\"] = np.ones(len(machine_articles))\n",
        "\n",
        "human_articles.columns = ['title', 'content', 'domain', 'label']\n",
        "machine_articles.columns = ['title', 'content', 'domain', 'label']"
      ],
      "execution_count": null,
      "outputs": [
        {
          "output_type": "stream",
          "text": [
            "/usr/local/lib/python3.7/dist-packages/ipykernel_launcher.py:3: SettingWithCopyWarning: \n",
            "A value is trying to be set on a copy of a slice from a DataFrame.\n",
            "Try using .loc[row_indexer,col_indexer] = value instead\n",
            "\n",
            "See the caveats in the documentation: https://pandas.pydata.org/pandas-docs/stable/user_guide/indexing.html#returning-a-view-versus-a-copy\n",
            "  This is separate from the ipykernel package so we can avoid doing imports until\n",
            "/usr/local/lib/python3.7/dist-packages/ipykernel_launcher.py:6: SettingWithCopyWarning: \n",
            "A value is trying to be set on a copy of a slice from a DataFrame.\n",
            "Try using .loc[row_indexer,col_indexer] = value instead\n",
            "\n",
            "See the caveats in the documentation: https://pandas.pydata.org/pandas-docs/stable/user_guide/indexing.html#returning-a-view-versus-a-copy\n",
            "  \n"
          ],
          "name": "stderr"
        }
      ]
    },
    {
      "cell_type": "code",
      "metadata": {
        "colab": {
          "base_uri": "https://localhost:8080/"
        },
        "id": "poFzCfw8B_sv",
        "outputId": "a09ef14f-99c3-4d3c-9a7c-b5803a7efd69"
      },
      "source": [
        "machine_articles[\"content\"] = machine_articles.content.apply(lambda x: str(x))\n",
        "human_articles[\"content\"] = human_articles.content.apply(lambda x: str(x))\n",
        "\n",
        "machine_articles[\"label\"] = machine_articles.label.apply(lambda x: int(x))\n",
        "human_articles[\"label\"] = human_articles.label.apply(lambda x: int(x))"
      ],
      "execution_count": null,
      "outputs": [
        {
          "output_type": "stream",
          "text": [
            "/usr/local/lib/python3.7/dist-packages/ipykernel_launcher.py:1: SettingWithCopyWarning: \n",
            "A value is trying to be set on a copy of a slice from a DataFrame.\n",
            "Try using .loc[row_indexer,col_indexer] = value instead\n",
            "\n",
            "See the caveats in the documentation: https://pandas.pydata.org/pandas-docs/stable/user_guide/indexing.html#returning-a-view-versus-a-copy\n",
            "  \"\"\"Entry point for launching an IPython kernel.\n",
            "/usr/local/lib/python3.7/dist-packages/ipykernel_launcher.py:2: SettingWithCopyWarning: \n",
            "A value is trying to be set on a copy of a slice from a DataFrame.\n",
            "Try using .loc[row_indexer,col_indexer] = value instead\n",
            "\n",
            "See the caveats in the documentation: https://pandas.pydata.org/pandas-docs/stable/user_guide/indexing.html#returning-a-view-versus-a-copy\n",
            "  \n",
            "/usr/local/lib/python3.7/dist-packages/ipykernel_launcher.py:4: SettingWithCopyWarning: \n",
            "A value is trying to be set on a copy of a slice from a DataFrame.\n",
            "Try using .loc[row_indexer,col_indexer] = value instead\n",
            "\n",
            "See the caveats in the documentation: https://pandas.pydata.org/pandas-docs/stable/user_guide/indexing.html#returning-a-view-versus-a-copy\n",
            "  after removing the cwd from sys.path.\n",
            "/usr/local/lib/python3.7/dist-packages/ipykernel_launcher.py:5: SettingWithCopyWarning: \n",
            "A value is trying to be set on a copy of a slice from a DataFrame.\n",
            "Try using .loc[row_indexer,col_indexer] = value instead\n",
            "\n",
            "See the caveats in the documentation: https://pandas.pydata.org/pandas-docs/stable/user_guide/indexing.html#returning-a-view-versus-a-copy\n",
            "  \"\"\"\n"
          ],
          "name": "stderr"
        }
      ]
    },
    {
      "cell_type": "code",
      "metadata": {
        "id": "-X1_85ryCJeK"
      },
      "source": [
        "machine_articles = machine_articles[~machine_articles.domain.str.contains(\"bbc.co.uk\")]\n",
        "machine_articles = machine_articles[~machine_articles.domain.str.contains(\"ceasefiremagazine.co.uk\")]\n",
        "\n",
        "human_articles = human_articles[~human_articles.domain.str.contains(\"bbc.co.uk\")]\n",
        "human_articles = human_articles[~human_articles.domain.str.contains(\"ceasefiremagazine.co.uk\")]"
      ],
      "execution_count": null,
      "outputs": []
    },
    {
      "cell_type": "markdown",
      "metadata": {
        "id": "H1Pnz56EAbhY"
      },
      "source": [
        "## Statistics"
      ]
    },
    {
      "cell_type": "markdown",
      "metadata": {
        "id": "nuXSSDa3D7vl"
      },
      "source": [
        "**Human Articles**"
      ]
    },
    {
      "cell_type": "code",
      "metadata": {
        "colab": {
          "base_uri": "https://localhost:8080/",
          "height": 390
        },
        "id": "_TKEpxtZFqWj",
        "outputId": "36c99751-9a92-4d23-8238-2cfd69481ffc"
      },
      "source": [
        "human_articles.groupby(['domain']).count()"
      ],
      "execution_count": null,
      "outputs": [
        {
          "output_type": "execute_result",
          "data": {
            "text/html": [
              "<div>\n",
              "<style scoped>\n",
              "    .dataframe tbody tr th:only-of-type {\n",
              "        vertical-align: middle;\n",
              "    }\n",
              "\n",
              "    .dataframe tbody tr th {\n",
              "        vertical-align: top;\n",
              "    }\n",
              "\n",
              "    .dataframe thead th {\n",
              "        text-align: right;\n",
              "    }\n",
              "</style>\n",
              "<table border=\"1\" class=\"dataframe\">\n",
              "  <thead>\n",
              "    <tr style=\"text-align: right;\">\n",
              "      <th></th>\n",
              "      <th>title</th>\n",
              "      <th>content</th>\n",
              "      <th>label</th>\n",
              "    </tr>\n",
              "    <tr>\n",
              "      <th>domain</th>\n",
              "      <th></th>\n",
              "      <th></th>\n",
              "      <th></th>\n",
              "    </tr>\n",
              "  </thead>\n",
              "  <tbody>\n",
              "    <tr>\n",
              "      <th>21stcenturywire.com</th>\n",
              "      <td>257</td>\n",
              "      <td>257</td>\n",
              "      <td>257</td>\n",
              "    </tr>\n",
              "    <tr>\n",
              "      <th>aljazeera.com</th>\n",
              "      <td>145</td>\n",
              "      <td>145</td>\n",
              "      <td>145</td>\n",
              "    </tr>\n",
              "    <tr>\n",
              "      <th>americanfreepress.net</th>\n",
              "      <td>453</td>\n",
              "      <td>453</td>\n",
              "      <td>453</td>\n",
              "    </tr>\n",
              "    <tr>\n",
              "      <th>canadiandimension.com</th>\n",
              "      <td>169</td>\n",
              "      <td>169</td>\n",
              "      <td>169</td>\n",
              "    </tr>\n",
              "    <tr>\n",
              "      <th>egypttoday.com</th>\n",
              "      <td>1049</td>\n",
              "      <td>1049</td>\n",
              "      <td>1049</td>\n",
              "    </tr>\n",
              "    <tr>\n",
              "      <th>france24.com</th>\n",
              "      <td>459</td>\n",
              "      <td>459</td>\n",
              "      <td>459</td>\n",
              "    </tr>\n",
              "    <tr>\n",
              "      <th>rt.com</th>\n",
              "      <td>476</td>\n",
              "      <td>476</td>\n",
              "      <td>476</td>\n",
              "    </tr>\n",
              "    <tr>\n",
              "      <th>straitstimes.com</th>\n",
              "      <td>5450</td>\n",
              "      <td>5450</td>\n",
              "      <td>5450</td>\n",
              "    </tr>\n",
              "    <tr>\n",
              "      <th>taipeitimes.com</th>\n",
              "      <td>2831</td>\n",
              "      <td>2831</td>\n",
              "      <td>2831</td>\n",
              "    </tr>\n",
              "    <tr>\n",
              "      <th>timesofindia.indiatimes.com</th>\n",
              "      <td>3112</td>\n",
              "      <td>3112</td>\n",
              "      <td>3112</td>\n",
              "    </tr>\n",
              "  </tbody>\n",
              "</table>\n",
              "</div>"
            ],
            "text/plain": [
              "                             title  content  label\n",
              "domain                                            \n",
              "21stcenturywire.com            257      257    257\n",
              "aljazeera.com                  145      145    145\n",
              "americanfreepress.net          453      453    453\n",
              "canadiandimension.com          169      169    169\n",
              "egypttoday.com                1049     1049   1049\n",
              "france24.com                   459      459    459\n",
              "rt.com                         476      476    476\n",
              "straitstimes.com              5450     5450   5450\n",
              "taipeitimes.com               2831     2831   2831\n",
              "timesofindia.indiatimes.com   3112     3112   3112"
            ]
          },
          "metadata": {
            "tags": []
          },
          "execution_count": 19
        }
      ]
    },
    {
      "cell_type": "code",
      "metadata": {
        "id": "tJCOLr9ZEPL2"
      },
      "source": [
        "source_group = human_articles.groupby(['domain'])"
      ],
      "execution_count": null,
      "outputs": []
    },
    {
      "cell_type": "code",
      "metadata": {
        "colab": {
          "base_uri": "https://localhost:8080/"
        },
        "id": "CpKVXuYG8d8r",
        "outputId": "518a70c4-3580-4efb-fd07-d5cef63547b5"
      },
      "source": [
        "import nltk\n",
        "nltk.download('punkt')\n",
        "from nltk.tokenize import word_tokenize \n",
        "from nltk.tokenize import sent_tokenize\n",
        "import re\n",
        "\n",
        "def word_count(text):\n",
        "\n",
        "  tokens = word_tokenize(text)\n",
        "\n",
        "  nonPunct = re.compile('.*[A-Za-z0-9].*')  # must contain a letter or digit\n",
        "  \n",
        "  filtered = [w for w in tokens if nonPunct.match(w)]\n",
        "\n",
        "  return len(filtered)\n",
        "\n",
        "def sentence_count(text):\n",
        "\n",
        "  tokens = sent_tokenize(text)\n",
        "\n",
        "  nonPunct = re.compile('.*[A-Za-z0-9].*')  # must contain a letter or digit\n",
        "  \n",
        "  filtered = [w for w in tokens if nonPunct.match(w)]\n",
        "\n",
        "  return len(filtered)\n",
        "\n"
      ],
      "execution_count": null,
      "outputs": [
        {
          "output_type": "stream",
          "text": [
            "[nltk_data] Downloading package punkt to /root/nltk_data...\n",
            "[nltk_data]   Unzipping tokenizers/punkt.zip.\n"
          ],
          "name": "stdout"
        }
      ]
    },
    {
      "cell_type": "code",
      "metadata": {
        "colab": {
          "base_uri": "https://localhost:8080/",
          "height": 1000
        },
        "id": "wmXRoTlS6s41",
        "outputId": "c90ef768-7e3c-4c6d-910d-f2be7c6bc2d6"
      },
      "source": [
        "columns = [\"source\", \"mean_wc\", \"mean_sc\"]\n",
        "\n",
        "data = [] \n",
        "\n",
        "for group in source_group:\n",
        "    print(group[0])\n",
        "\n",
        "    temp_frame = group[1]\n",
        "\n",
        "    temp_frame[\"word count\"] = temp_frame.content.apply(lambda x: word_count(str(x)))\n",
        "    temp_frame[\"sentence count\"] = temp_frame.content.apply(lambda x: sentence_count(str(x)))\n",
        "\n",
        "    print(\"Mean word count: \", temp_frame[\"word count\"].mean())\n",
        "    print(\"SD word count: \", temp_frame[\"word count\"].std())\n",
        "    print(\"Min word count: \", temp_frame[\"word count\"].min())\n",
        "\n",
        "    print(\"Mean sentence count: \", temp_frame[\"sentence count\"].mean())\n",
        "    print(\"SD sentence count: \", temp_frame[\"sentence count\"].std())\n",
        "    print(\"Min sentence count: \", temp_frame[\"sentence count\"].min())\n",
        "\n",
        "    data.append([group[0], temp_frame[\"word count\"].mean(), temp_frame[\"sentence count\"].mean()])\n",
        "    \n",
        "    print()\n",
        "\n",
        "stats_df = pd.DataFrame(data, columns=columns)\n",
        "stats_df.head()"
      ],
      "execution_count": null,
      "outputs": [
        {
          "output_type": "stream",
          "text": [
            "21stcenturywire.com\n",
            "Mean word count:  750.5447470817121\n",
            "SD word count:  1060.1899662755914\n",
            "Min word count:  8\n",
            "Mean sentence count:  19.15953307392996\n",
            "SD sentence count:  34.47182155081348\n",
            "Min sentence count:  1\n",
            "\n",
            "aljazeera.com\n",
            "Mean word count:  1086.0620689655173\n",
            "SD word count:  1288.9005177793208\n",
            "Min word count:  153\n",
            "Mean sentence count:  13.627586206896552\n",
            "SD sentence count:  16.38382706427381\n",
            "Min sentence count:  1\n",
            "\n",
            "americanfreepress.net\n",
            "Mean word count:  926.644591611479\n",
            "SD word count:  468.715118535206\n",
            "Min word count:  15\n",
            "Mean sentence count:  25.90728476821192\n",
            "SD sentence count:  13.042994420450913\n",
            "Min sentence count:  1\n",
            "\n",
            "canadiandimension.com\n",
            "Mean word count:  1893.4970414201184\n",
            "SD word count:  1167.6685058588025\n",
            "Min word count:  141\n",
            "Mean sentence count:  56.94082840236686\n",
            "SD sentence count:  38.14894121697652\n",
            "Min sentence count:  3\n",
            "\n",
            "egypttoday.com\n",
            "Mean word count:  294.025738798856\n",
            "SD word count:  264.7880333042958\n",
            "Min word count:  38\n",
            "Mean sentence count:  10.36701620591039\n",
            "SD sentence count:  9.484202351138054\n",
            "Min sentence count:  1\n",
            "\n",
            "france24.com\n",
            "Mean word count:  497.84531590413945\n",
            "SD word count:  343.22449913520745\n",
            "Min word count:  5\n",
            "Mean sentence count:  11.058823529411764\n",
            "SD sentence count:  9.875580991665183\n",
            "Min sentence count:  1\n",
            "\n",
            "rt.com\n",
            "Mean word count:  610.0420168067227\n",
            "SD word count:  536.0404602947209\n",
            "Min word count:  50\n",
            "Mean sentence count:  17.550420168067227\n",
            "SD sentence count:  20.279820922907387\n",
            "Min sentence count:  2\n",
            "\n",
            "straitstimes.com\n",
            "Mean word count:  490.4194495412844\n",
            "SD word count:  288.8122794891066\n",
            "Min word count:  2\n",
            "Mean sentence count:  8.748256880733946\n",
            "SD sentence count:  8.352117418786703\n",
            "Min sentence count:  1\n",
            "\n",
            "taipeitimes.com\n",
            "Mean word count:  558.5793006004945\n",
            "SD word count:  297.4260010989074\n",
            "Min word count:  135\n",
            "Mean sentence count:  20.963617096432355\n",
            "SD sentence count:  12.639095393013164\n",
            "Min sentence count:  4\n",
            "\n",
            "timesofindia.indiatimes.com\n",
            "Mean word count:  404.6455655526992\n",
            "SD word count:  271.03746774715785\n",
            "Min word count:  36\n",
            "Mean sentence count:  16.370179948586117\n",
            "SD sentence count:  11.3428432981002\n",
            "Min sentence count:  1\n",
            "\n"
          ],
          "name": "stdout"
        },
        {
          "output_type": "execute_result",
          "data": {
            "text/html": [
              "<div>\n",
              "<style scoped>\n",
              "    .dataframe tbody tr th:only-of-type {\n",
              "        vertical-align: middle;\n",
              "    }\n",
              "\n",
              "    .dataframe tbody tr th {\n",
              "        vertical-align: top;\n",
              "    }\n",
              "\n",
              "    .dataframe thead th {\n",
              "        text-align: right;\n",
              "    }\n",
              "</style>\n",
              "<table border=\"1\" class=\"dataframe\">\n",
              "  <thead>\n",
              "    <tr style=\"text-align: right;\">\n",
              "      <th></th>\n",
              "      <th>source</th>\n",
              "      <th>mean_wc</th>\n",
              "      <th>mean_sc</th>\n",
              "    </tr>\n",
              "  </thead>\n",
              "  <tbody>\n",
              "    <tr>\n",
              "      <th>0</th>\n",
              "      <td>21stcenturywire.com</td>\n",
              "      <td>750.544747</td>\n",
              "      <td>19.159533</td>\n",
              "    </tr>\n",
              "    <tr>\n",
              "      <th>1</th>\n",
              "      <td>aljazeera.com</td>\n",
              "      <td>1086.062069</td>\n",
              "      <td>13.627586</td>\n",
              "    </tr>\n",
              "    <tr>\n",
              "      <th>2</th>\n",
              "      <td>americanfreepress.net</td>\n",
              "      <td>926.644592</td>\n",
              "      <td>25.907285</td>\n",
              "    </tr>\n",
              "    <tr>\n",
              "      <th>3</th>\n",
              "      <td>canadiandimension.com</td>\n",
              "      <td>1893.497041</td>\n",
              "      <td>56.940828</td>\n",
              "    </tr>\n",
              "    <tr>\n",
              "      <th>4</th>\n",
              "      <td>egypttoday.com</td>\n",
              "      <td>294.025739</td>\n",
              "      <td>10.367016</td>\n",
              "    </tr>\n",
              "  </tbody>\n",
              "</table>\n",
              "</div>"
            ],
            "text/plain": [
              "                  source      mean_wc    mean_sc\n",
              "0    21stcenturywire.com   750.544747  19.159533\n",
              "1          aljazeera.com  1086.062069  13.627586\n",
              "2  americanfreepress.net   926.644592  25.907285\n",
              "3  canadiandimension.com  1893.497041  56.940828\n",
              "4         egypttoday.com   294.025739  10.367016"
            ]
          },
          "metadata": {
            "tags": []
          },
          "execution_count": 22
        }
      ]
    },
    {
      "cell_type": "markdown",
      "metadata": {
        "id": "LUj1BOC9IQBk"
      },
      "source": [
        "**Machine Generated Articles**"
      ]
    },
    {
      "cell_type": "code",
      "metadata": {
        "colab": {
          "base_uri": "https://localhost:8080/"
        },
        "id": "UW3aVPon8AdW",
        "outputId": "9efa97e0-aaf6-465f-c596-7dca7c966b27"
      },
      "source": [
        "temp_frame = machine_articles\n",
        "\n",
        "temp_frame[\"word count\"] = temp_frame.content.apply(lambda x: word_count(str(x)))\n",
        "temp_frame[\"sentence count\"] = temp_frame.content.apply(lambda x: sentence_count(str(x)))\n",
        "\n",
        "print(\"Mean word count: \", temp_frame[\"word count\"].mean())\n",
        "print(\"SD word count: \", temp_frame[\"word count\"].std())\n",
        "print(\"Min word count: \", temp_frame[\"word count\"].min())\n",
        "\n",
        "print(\"Mean sentence count: \", temp_frame[\"sentence count\"].mean())\n",
        "print(\"SD sentence count: \", temp_frame[\"sentence count\"].std())\n",
        "print(\"Min sentence count: \", temp_frame[\"sentence count\"].min())\n",
        "\n",
        "print()"
      ],
      "execution_count": null,
      "outputs": [
        {
          "output_type": "stream",
          "text": [
            "Mean word count:  468.6853690715923\n",
            "SD word count:  166.34266703255793\n",
            "Min word count:  1\n",
            "Mean sentence count:  18.709395180890215\n",
            "SD sentence count:  7.809524183613696\n",
            "Min sentence count:  1\n",
            "\n"
          ],
          "name": "stdout"
        }
      ]
    },
    {
      "cell_type": "markdown",
      "metadata": {
        "id": "bRA7pmIVJyW9"
      },
      "source": [
        "## Readability"
      ]
    },
    {
      "cell_type": "code",
      "metadata": {
        "colab": {
          "base_uri": "https://localhost:8080/"
        },
        "id": "cFdF5JWQJyW-",
        "outputId": "f8257cb8-eead-43c3-d8cf-b6f0cb57fa51"
      },
      "source": [
        "import nltk\n",
        "!pip install py-readability-metrics\n",
        "!python -m nltk.downloader punkt"
      ],
      "execution_count": null,
      "outputs": [
        {
          "output_type": "stream",
          "text": [
            "Collecting py-readability-metrics\n",
            "  Downloading https://files.pythonhosted.org/packages/e2/ef/c8724b3b13516ea5437ba32f128254012f96c4b6d2712b1befa3519bfc87/py_readability_metrics-1.4.5-py3-none-any.whl\n",
            "Requirement already satisfied: nltk in /usr/local/lib/python3.7/dist-packages (from py-readability-metrics) (3.2.5)\n",
            "Requirement already satisfied: six in /usr/local/lib/python3.7/dist-packages (from nltk->py-readability-metrics) (1.15.0)\n",
            "Installing collected packages: py-readability-metrics\n",
            "Successfully installed py-readability-metrics-1.4.5\n",
            "/usr/lib/python3.7/runpy.py:125: RuntimeWarning: 'nltk.downloader' found in sys.modules after import of package 'nltk', but prior to execution of 'nltk.downloader'; this may result in unpredictable behaviour\n",
            "  warn(RuntimeWarning(msg))\n",
            "[nltk_data] Downloading package punkt to /root/nltk_data...\n",
            "[nltk_data]   Package punkt is already up-to-date!\n"
          ],
          "name": "stdout"
        }
      ]
    },
    {
      "cell_type": "code",
      "metadata": {
        "id": "ZkI7xSaXJyW-"
      },
      "source": [
        "from readability import Readability"
      ],
      "execution_count": null,
      "outputs": []
    },
    {
      "cell_type": "code",
      "metadata": {
        "colab": {
          "base_uri": "https://localhost:8080/"
        },
        "id": "xlsw38hoKoJw",
        "outputId": "09308f91-406b-4678-d19e-27828860e115"
      },
      "source": [
        "from collections import Counter\n",
        "  \n",
        "def most_frequent(List):\n",
        "    occurence_count = Counter(List)\n",
        "    return occurence_count.most_common(1)[0][0]\n",
        "    \n",
        "sample_size = 10\n",
        "iterations = 50 \n",
        "\n",
        "columns = [\"source\", \"fk_score\", \"f_score\", \"ari_score\"]\n",
        "data = []\n",
        "\n",
        "for group in source_group:\n",
        "\n",
        "    fk_score = []\n",
        "    fk_grade_level = []\n",
        "\n",
        "    f_score = []\n",
        "    f_ease = []\n",
        "    f_grade_levels = []\n",
        "\n",
        "    ari_score = []\n",
        "    ari_grade_levels = []\n",
        "\n",
        "    print(group[0])\n",
        "\n",
        "    for i in range(iterations):\n",
        "      temp_frame = group[1].sample(n=sample_size)\n",
        "\n",
        "      articles = temp_frame['content'].values.tolist()\n",
        "\n",
        "      text = \" \".join(articles)\n",
        "\n",
        "      r = Readability(text)\n",
        "\n",
        "      fk = r.flesch_kincaid()\n",
        "      fk_score.append(fk.score)\n",
        "      fk_grade_level.append(fk.grade_level)\n",
        "\n",
        "      f = r.flesch()\n",
        "      f_score.append(f.score)\n",
        "      f_ease.append(f.ease)\n",
        "      f_grade_levels.append(f.grade_levels)\n",
        "\n",
        "      ari = r.ari()\n",
        "      ari_score.append(ari.score)\n",
        "      ari_grade_levels.append(ari.grade_levels[0])\n",
        "      # print(\"Automated Readability Index ages\", ari.ages)\n",
        "\n",
        "    data.append([group[0], sum(fk_score)/iterations, sum(f_score)/iterations, sum(ari_score)/iterations])\n",
        "\n",
        "    print(\"flesch_kincaid score:\", sum(fk_score)/iterations)\n",
        "    print(\"flesch_kincaid grade level:\", fk.grade_level)\n",
        "\n",
        "\n",
        "    print(\"Flesch Reading Ease score\", sum(f_score)/iterations)\n",
        "    print(\"Flesch Reading Ease\", most_frequent(f_ease))\n",
        "    print(\"Flesch Reading Ease grade_levels\", f.grade_levels)\n",
        "\n",
        "    print(\"Automated Readability Index score\", sum(ari_score)/iterations)\n",
        "    print(\"Automated Readability Index grade level\", most_frequent(ari_grade_levels))\n",
        "    print()\n",
        "\n",
        "\n",
        "readability_df = pd.DataFrame(data, columns=columns)\n",
        "readability_df.head()\n",
        "  "
      ],
      "execution_count": null,
      "outputs": [
        {
          "output_type": "stream",
          "text": [
            "21stcenturywire.com\n",
            "flesch_kincaid score: 21.39148425879742\n",
            "flesch_kincaid grade level: 23\n",
            "Flesch Reading Ease score 19.486506040683267\n",
            "Flesch Reading Ease very_confusing\n",
            "Flesch Reading Ease grade_levels ['college_graduate']\n",
            "Automated Readability Index score 24.456685223390913\n",
            "Automated Readability Index grade level college_graduate\n",
            "\n",
            "aljazeera.com\n",
            "flesch_kincaid score: 35.34898497034717\n",
            "flesch_kincaid grade level: 31\n",
            "Flesch Reading Ease score -17.781701860328333\n",
            "Flesch Reading Ease very_confusing\n",
            "Flesch Reading Ease grade_levels ['college_graduate']\n",
            "Automated Readability Index score 43.142639941963814\n",
            "Automated Readability Index grade level college_graduate\n",
            "\n",
            "americanfreepress.net\n",
            "flesch_kincaid score: 17.648389877370548\n",
            "flesch_kincaid grade level: 19\n",
            "Flesch Reading Ease score 30.090843189964367\n",
            "Flesch Reading Ease difficult\n",
            "Flesch Reading Ease grade_levels ['college_graduate']\n",
            "Automated Readability Index score 19.461954147029797\n",
            "Automated Readability Index grade level college_graduate\n",
            "\n",
            "canadiandimension.com\n",
            "flesch_kincaid score: 17.802492087219225\n",
            "flesch_kincaid grade level: 19\n",
            "Flesch Reading Ease score 25.93021740733504\n",
            "Flesch Reading Ease very_confusing\n",
            "Flesch Reading Ease grade_levels ['college_graduate']\n",
            "Automated Readability Index score 19.680586789343664\n",
            "Automated Readability Index grade level college_graduate\n",
            "\n",
            "egypttoday.com\n",
            "flesch_kincaid score: 15.699012076510236\n",
            "flesch_kincaid grade level: 14\n",
            "Flesch Reading Ease score 32.206833870652254\n",
            "Flesch Reading Ease difficult\n",
            "Flesch Reading Ease grade_levels ['college']\n",
            "Automated Readability Index score 16.91201409433592\n",
            "Automated Readability Index grade level college_graduate\n",
            "\n",
            "france24.com\n",
            "flesch_kincaid score: 22.972484708613464\n",
            "flesch_kincaid grade level: 23\n",
            "Flesch Reading Ease score 17.450218120688895\n",
            "Flesch Reading Ease very_confusing\n",
            "Flesch Reading Ease grade_levels ['college_graduate']\n",
            "Automated Readability Index score 27.18608454560799\n",
            "Automated Readability Index grade level college_graduate\n",
            "\n",
            "rt.com\n",
            "flesch_kincaid score: 18.52385395702\n",
            "flesch_kincaid grade level: 31\n",
            "Flesch Reading Ease score 27.979700633683155\n",
            "Flesch Reading Ease difficult\n",
            "Flesch Reading Ease grade_levels ['college_graduate']\n",
            "Automated Readability Index score 20.83915929996259\n",
            "Automated Readability Index grade level college_graduate\n",
            "\n",
            "straitstimes.com\n",
            "flesch_kincaid score: 26.98093849121788\n",
            "flesch_kincaid grade level: 25\n",
            "Flesch Reading Ease score 5.375987523782239\n",
            "Flesch Reading Ease very_confusing\n",
            "Flesch Reading Ease grade_levels ['college_graduate']\n",
            "Automated Readability Index score 32.597989286934514\n",
            "Automated Readability Index grade level college_graduate\n",
            "\n",
            "taipeitimes.com\n"
          ],
          "name": "stdout"
        }
      ]
    },
    {
      "cell_type": "markdown",
      "metadata": {
        "id": "ez2dMyNCVZwu"
      },
      "source": [
        "### Lexical Richness"
      ]
    },
    {
      "cell_type": "code",
      "metadata": {
        "colab": {
          "background_save": true
        },
        "id": "5d1AyjirUzAJ",
        "outputId": "b8b9e245-49cc-4939-a5f3-20b6b1c286ba"
      },
      "source": [
        "!pip install lexicalrichness"
      ],
      "execution_count": null,
      "outputs": [
        {
          "output_type": "stream",
          "text": [
            "Collecting lexicalrichness\n",
            "  Downloading https://files.pythonhosted.org/packages/1f/3a/0e07cec04fea93aa215187a633d7e87b8cba1a7973aec6aedbb9cd269b8c/lexicalrichness-0.1.3.tar.gz\n",
            "Requirement already satisfied: scipy>=1.0.0 in /usr/local/lib/python3.7/dist-packages (from lexicalrichness) (1.4.1)\n",
            "Requirement already satisfied: numpy>=1.13.3 in /usr/local/lib/python3.7/dist-packages (from scipy>=1.0.0->lexicalrichness) (1.19.5)\n",
            "Building wheels for collected packages: lexicalrichness\n",
            "  Building wheel for lexicalrichness (setup.py) ... \u001b[?25l\u001b[?25hdone\n",
            "  Created wheel for lexicalrichness: filename=lexicalrichness-0.1.3-py2.py3-none-any.whl size=8741 sha256=842d4e4ae5630e87e60531f5110c99759cccd75039ecafe756643388685168f9\n",
            "  Stored in directory: /root/.cache/pip/wheels/ac/04/68/c48c4001edf1647b80b549897fd80082286ec253e343c73116\n",
            "Successfully built lexicalrichness\n",
            "Installing collected packages: lexicalrichness\n",
            "Successfully installed lexicalrichness-0.1.3\n"
          ],
          "name": "stdout"
        }
      ]
    },
    {
      "cell_type": "code",
      "metadata": {
        "id": "5cdPCAimJyW_"
      },
      "source": [
        "from lexicalrichness import LexicalRichness\n",
        "sample_size = 10\n",
        "iterations = 50 \n",
        "\n",
        "columns = [\"source\", \"mattr\", \"mtld\"]\n",
        "data = []\n",
        "\n",
        "for group in source_group:\n",
        "\n",
        "    mattr = []  # moving average type-token ratio (MATTR)\n",
        "    mtld = [] # measure of Textual Lexical Diversity (MTLD)\n",
        "\n",
        "    print(group[0])\n",
        "\n",
        "    for i in range(iterations):\n",
        "      temp_frame = group[1].sample(n=sample_size)\n",
        "\n",
        "      articles = temp_frame['content'].values.tolist()\n",
        "\n",
        "      text = \" \".join(articles)\n",
        "\n",
        "      lex = LexicalRichness(text)\n",
        "\n",
        "      mattr.append(lex.mattr(window_size=25))\n",
        "      mtld.append(lex.mtld(threshold=0.72))\n",
        "      # print(\"Automated Readability Index ages\", ari.ages)\n",
        "\n",
        "\n",
        "    print(\"Moving average type-token ratio (MATTR):\", sum(mattr)/iterations)\n",
        "    print(\"Measure of Textual Lexical Diversity (MTLD)\", sum(mtld)/iterations)\n",
        "\n",
        "    data.append([group[0], sum(mattr)/iterations, sum(mtld)/iterations])\n",
        "    \n",
        "    print()\n",
        "\n",
        "diversity_df = pd.DataFrame(data, columns=columns)\n",
        "diversity_df.head()\n"
      ],
      "execution_count": null,
      "outputs": []
    },
    {
      "cell_type": "markdown",
      "metadata": {
        "id": "Ygsd1QfnS5EI"
      },
      "source": [
        "## Lexical Summary"
      ]
    },
    {
      "cell_type": "code",
      "metadata": {
        "id": "qt1ISiV2fVGz"
      },
      "source": [
        "temp = stats_df.set_index('source').join(readability_df.set_index('source'))\n",
        "\n",
        "source_dataframe = temp.join(diversity_df.set_index('source'))\n"
      ],
      "execution_count": null,
      "outputs": []
    },
    {
      "cell_type": "markdown",
      "metadata": {
        "id": "K-XYP9T7V1hF"
      },
      "source": [
        "**Normalizing Columns**"
      ]
    },
    {
      "cell_type": "code",
      "metadata": {
        "id": "xWU4RRnc0es8"
      },
      "source": [
        "Copy_original = source_dataframe"
      ],
      "execution_count": null,
      "outputs": []
    },
    {
      "cell_type": "code",
      "metadata": {
        "id": "1fRwVlMYV1H8"
      },
      "source": [
        "#min-max scaling\n",
        "# source_dataframe[\"mean_wc\"] = (source_dataframe[\"mean_wc\"] - source_dataframe[\"mean_wc\"].min()) / (source_dataframe[\"mean_wc\"].max() - source_dataframe[\"mean_wc\"].min())\n",
        "\n",
        "# source_dataframe[\"fk_score\"] = (source_dataframe[\"fk_score\"] - source_dataframe[\"fk_score\"].min()) / (source_dataframe[\"fk_score\"].max() - source_dataframe[\"fk_score\"].min())\n",
        "\n",
        "# source_dataframe[\"mtld\"] = (source_dataframe[\"mtld\"] - source_dataframe[\"mtld\"].min()) / (source_dataframe[\"mtld\"].max() - source_dataframe[\"mtld\"].min())\n",
        "\n",
        "#z scaling \n",
        "source_dataframe[\"mean_wc\"] = (source_dataframe[\"mean_wc\"] - source_dataframe[\"mean_wc\"].mean()) / source_dataframe[\"mean_wc\"].std()\n",
        "\n",
        "source_dataframe[\"fk_score\"] = (source_dataframe[\"fk_score\"] - source_dataframe[\"fk_score\"].mean()) / source_dataframe[\"fk_score\"].std()\n",
        "\n",
        "source_dataframe[\"mtld\"] = (source_dataframe[\"mtld\"] - source_dataframe[\"mtld\"].mean()) / source_dataframe[\"mtld\"].std()\n"
      ],
      "execution_count": null,
      "outputs": []
    },
    {
      "cell_type": "code",
      "metadata": {
        "colab": {
          "base_uri": "https://localhost:8080/",
          "height": 235
        },
        "id": "y3fivJ8ZXJXI",
        "outputId": "23667113-0a0a-414d-ee0a-47fc17d868f9"
      },
      "source": [
        "source_dataframe.head()"
      ],
      "execution_count": null,
      "outputs": [
        {
          "output_type": "execute_result",
          "data": {
            "text/html": [
              "<div>\n",
              "<style scoped>\n",
              "    .dataframe tbody tr th:only-of-type {\n",
              "        vertical-align: middle;\n",
              "    }\n",
              "\n",
              "    .dataframe tbody tr th {\n",
              "        vertical-align: top;\n",
              "    }\n",
              "\n",
              "    .dataframe thead th {\n",
              "        text-align: right;\n",
              "    }\n",
              "</style>\n",
              "<table border=\"1\" class=\"dataframe\">\n",
              "  <thead>\n",
              "    <tr style=\"text-align: right;\">\n",
              "      <th></th>\n",
              "      <th>mean_wc</th>\n",
              "      <th>mean_sc</th>\n",
              "      <th>fk_score</th>\n",
              "      <th>f_score</th>\n",
              "      <th>ari_score</th>\n",
              "      <th>mattr</th>\n",
              "      <th>mtld</th>\n",
              "    </tr>\n",
              "    <tr>\n",
              "      <th>source</th>\n",
              "      <th></th>\n",
              "      <th></th>\n",
              "      <th></th>\n",
              "      <th></th>\n",
              "      <th></th>\n",
              "      <th></th>\n",
              "      <th></th>\n",
              "    </tr>\n",
              "  </thead>\n",
              "  <tbody>\n",
              "    <tr>\n",
              "      <th>21stcenturywire.com</th>\n",
              "      <td>-0.001467</td>\n",
              "      <td>19.159533</td>\n",
              "      <td>0.171900</td>\n",
              "      <td>18.085680</td>\n",
              "      <td>24.924388</td>\n",
              "      <td>0.906441</td>\n",
              "      <td>0.473598</td>\n",
              "    </tr>\n",
              "    <tr>\n",
              "      <th>aljazeera.com</th>\n",
              "      <td>0.716384</td>\n",
              "      <td>13.627586</td>\n",
              "      <td>2.330711</td>\n",
              "      <td>-22.556949</td>\n",
              "      <td>45.381364</td>\n",
              "      <td>0.909417</td>\n",
              "      <td>0.128658</td>\n",
              "    </tr>\n",
              "    <tr>\n",
              "      <th>americanfreepress.net</th>\n",
              "      <td>0.375305</td>\n",
              "      <td>25.907285</td>\n",
              "      <td>-0.410916</td>\n",
              "      <td>29.969100</td>\n",
              "      <td>19.441079</td>\n",
              "      <td>0.907070</td>\n",
              "      <td>0.468026</td>\n",
              "    </tr>\n",
              "    <tr>\n",
              "      <th>canadiandimension.com</th>\n",
              "      <td>2.443921</td>\n",
              "      <td>56.940828</td>\n",
              "      <td>-0.371978</td>\n",
              "      <td>25.621689</td>\n",
              "      <td>19.773104</td>\n",
              "      <td>0.901308</td>\n",
              "      <td>-0.317913</td>\n",
              "    </tr>\n",
              "    <tr>\n",
              "      <th>egypttoday.com</th>\n",
              "      <td>-0.978207</td>\n",
              "      <td>10.367016</td>\n",
              "      <td>-0.682784</td>\n",
              "      <td>32.337272</td>\n",
              "      <td>16.914204</td>\n",
              "      <td>0.881827</td>\n",
              "      <td>-2.368262</td>\n",
              "    </tr>\n",
              "  </tbody>\n",
              "</table>\n",
              "</div>"
            ],
            "text/plain": [
              "                        mean_wc    mean_sc  ...     mattr      mtld\n",
              "source                                      ...                    \n",
              "21stcenturywire.com   -0.001467  19.159533  ...  0.906441  0.473598\n",
              "aljazeera.com          0.716384  13.627586  ...  0.909417  0.128658\n",
              "americanfreepress.net  0.375305  25.907285  ...  0.907070  0.468026\n",
              "canadiandimension.com  2.443921  56.940828  ...  0.901308 -0.317913\n",
              "egypttoday.com        -0.978207  10.367016  ...  0.881827 -2.368262\n",
              "\n",
              "[5 rows x 7 columns]"
            ]
          },
          "metadata": {
            "tags": []
          },
          "execution_count": 107
        }
      ]
    },
    {
      "cell_type": "code",
      "metadata": {
        "colab": {
          "base_uri": "https://localhost:8080/",
          "height": 558
        },
        "id": "04gU8zmygnG7",
        "outputId": "2df2048a-cb50-4dc6-f759-db8e61d568cb"
      },
      "source": [
        "from string import ascii_letters\n",
        "import numpy as np\n",
        "import pandas as pd\n",
        "import seaborn as sns\n",
        "import matplotlib.pyplot as plt\n",
        "\n",
        "sns.set_theme(style=\"white\")\n",
        "\n",
        "corr = source_dataframe.corr()\n",
        "\n",
        "# Generate a mask for the upper triangle\n",
        "mask = np.triu(np.ones_like(corr, dtype=bool))\n",
        "\n",
        "# Set up the matplotlib figure\n",
        "f, ax = plt.subplots(figsize=(11, 9))\n",
        "\n",
        "# Generate a custom diverging colormap\n",
        "cmap = sns.diverging_palette(230, 20, as_cmap=True)\n",
        "\n",
        "# Draw the heatmap with the mask and correct aspect ratio\n",
        "sns.heatmap(corr, mask=mask, cmap=cmap, vmax=.3, center=0,\n",
        "            square=True, linewidths=.5, cbar_kws={\"shrink\": .5})"
      ],
      "execution_count": null,
      "outputs": [
        {
          "output_type": "execute_result",
          "data": {
            "text/plain": [
              "<matplotlib.axes._subplots.AxesSubplot at 0x7f60d5fe6590>"
            ]
          },
          "metadata": {
            "tags": []
          },
          "execution_count": 25
        },
        {
          "output_type": "display_data",
          "data": {
            "image/png": "[encoded data removed]",
            "text/plain": [
              "<Figure size 792x648 with 2 Axes>"
            ]
          },
          "metadata": {
            "tags": []
          }
        }
      ]
    },
    {
      "cell_type": "code",
      "metadata": {
        "colab": {
          "base_uri": "https://localhost:8080/",
          "height": 331
        },
        "id": "PS7yENb_hQoQ",
        "outputId": "d29d1ee5-a2fe-481b-b6f4-effdc67e68e5"
      },
      "source": [
        "# plot the heatmap\n",
        "sns.heatmap(corr, \n",
        "        xticklabels=corr.columns,\n",
        "        yticklabels=corr.columns)"
      ],
      "execution_count": null,
      "outputs": [
        {
          "output_type": "execute_result",
          "data": {
            "text/plain": [
              "<matplotlib.axes._subplots.AxesSubplot at 0x7f60d3f328d0>"
            ]
          },
          "metadata": {
            "tags": []
          },
          "execution_count": 109
        },
        {
          "output_type": "display_data",
          "data": {
            "image/png": "[encoded data removed]",
            "text/plain": [
              "<Figure size 432x288 with 2 Axes>"
            ]
          },
          "metadata": {
            "tags": []
          }
        }
      ]
    },
    {
      "cell_type": "markdown",
      "metadata": {
        "id": "caT4bL4tTBu1"
      },
      "source": [
        "## Clustering Sources"
      ]
    },
    {
      "cell_type": "code",
      "metadata": {
        "colab": {
          "base_uri": "https://localhost:8080/"
        },
        "id": "pJBxYBEIn1q3",
        "outputId": "72c1d8ed-e474-415a-e198-04ba2e204afa"
      },
      "source": [
        "from sklearn.metrics import silhouette_samples, silhouette_score\n",
        "\n",
        "from sklearn.cluster import KMeans\n",
        "\n",
        "range_n_clusters = [2, 3, 4, 5]\n",
        "\n",
        "mat = source_dataframe[[\"fk_score\", \"mtld\"]].values\n",
        "\n",
        "for n_clusters in range_n_clusters:\n",
        "    \n",
        "    # Initialize the clusterer with n_clusters value and a random generator\n",
        "    # seed of 10 for reproducibility.\n",
        "    clusterer = KMeans(n_clusters=n_clusters, random_state=10)\n",
        "    cluster_labels = clusterer.fit_predict(mat)\n",
        "\n",
        "    # The silhouette_score gives the average value for all the samples.\n",
        "    # This gives a perspective into the density and separation of the formed\n",
        "    # clusters\n",
        "    silhouette_avg = silhouette_score(mat, cluster_labels)\n",
        "    print(\"For n_clusters =\", n_clusters,\n",
        "          \"The average silhouette_score is :\", silhouette_avg)\n"
      ],
      "execution_count": null,
      "outputs": [
        {
          "output_type": "stream",
          "text": [
            "For n_clusters = 2 The average silhouette_score is : 0.3012387118610546\n",
            "For n_clusters = 3 The average silhouette_score is : 0.3572657137406823\n",
            "For n_clusters = 4 The average silhouette_score is : 0.31947911777526905\n",
            "For n_clusters = 5 The average silhouette_score is : 0.25915490874503877\n"
          ],
          "name": "stdout"
        }
      ]
    },
    {
      "cell_type": "code",
      "metadata": {
        "id": "sfeXtri_iG1c"
      },
      "source": [
        "# Convert DataFrame to matrix\n",
        "# mat = source_dataframe[[\"mean_wc\", \"fk_score\", \"mtld\"]].values\n",
        "mat = source_dataframe[[\"fk_score\", \"mtld\"]].values\n",
        "# Using sklearn\n",
        "km = KMeans(n_clusters=4)\n",
        "km.fit(mat)\n",
        "# Get cluster assignment labels\n",
        "labels = km.labels_\n",
        "# Format results as a DataFrame\n",
        "cluster_results = pd.DataFrame([source_dataframe.index,labels]).T"
      ],
      "execution_count": null,
      "outputs": []
    },
    {
      "cell_type": "code",
      "metadata": {
        "id": "N2OHucw_iyYR"
      },
      "source": [
        "cluster_results.columns = [\"source\", \"cluster\"]"
      ],
      "execution_count": null,
      "outputs": []
    },
    {
      "cell_type": "code",
      "metadata": {
        "colab": {
          "base_uri": "https://localhost:8080/",
          "height": 359
        },
        "id": "6CrjLCKdjnDi",
        "outputId": "4b151b47-714d-4a29-84cf-204fcf231ca4"
      },
      "source": [
        "cluster_results"
      ],
      "execution_count": null,
      "outputs": [
        {
          "output_type": "execute_result",
          "data": {
            "text/html": [
              "<div>\n",
              "<style scoped>\n",
              "    .dataframe tbody tr th:only-of-type {\n",
              "        vertical-align: middle;\n",
              "    }\n",
              "\n",
              "    .dataframe tbody tr th {\n",
              "        vertical-align: top;\n",
              "    }\n",
              "\n",
              "    .dataframe thead th {\n",
              "        text-align: right;\n",
              "    }\n",
              "</style>\n",
              "<table border=\"1\" class=\"dataframe\">\n",
              "  <thead>\n",
              "    <tr style=\"text-align: right;\">\n",
              "      <th></th>\n",
              "      <th>source</th>\n",
              "      <th>cluster</th>\n",
              "    </tr>\n",
              "  </thead>\n",
              "  <tbody>\n",
              "    <tr>\n",
              "      <th>0</th>\n",
              "      <td>21stcenturywire.com</td>\n",
              "      <td>2</td>\n",
              "    </tr>\n",
              "    <tr>\n",
              "      <th>1</th>\n",
              "      <td>aljazeera.com</td>\n",
              "      <td>0</td>\n",
              "    </tr>\n",
              "    <tr>\n",
              "      <th>2</th>\n",
              "      <td>americanfreepress.net</td>\n",
              "      <td>2</td>\n",
              "    </tr>\n",
              "    <tr>\n",
              "      <th>3</th>\n",
              "      <td>canadiandimension.com</td>\n",
              "      <td>1</td>\n",
              "    </tr>\n",
              "    <tr>\n",
              "      <th>4</th>\n",
              "      <td>egypttoday.com</td>\n",
              "      <td>3</td>\n",
              "    </tr>\n",
              "    <tr>\n",
              "      <th>5</th>\n",
              "      <td>france24.com</td>\n",
              "      <td>2</td>\n",
              "    </tr>\n",
              "    <tr>\n",
              "      <th>6</th>\n",
              "      <td>rt.com</td>\n",
              "      <td>2</td>\n",
              "    </tr>\n",
              "    <tr>\n",
              "      <th>7</th>\n",
              "      <td>straitstimes.com</td>\n",
              "      <td>0</td>\n",
              "    </tr>\n",
              "    <tr>\n",
              "      <th>8</th>\n",
              "      <td>taipeitimes.com</td>\n",
              "      <td>1</td>\n",
              "    </tr>\n",
              "    <tr>\n",
              "      <th>9</th>\n",
              "      <td>timesofindia.indiatimes.com</td>\n",
              "      <td>1</td>\n",
              "    </tr>\n",
              "  </tbody>\n",
              "</table>\n",
              "</div>"
            ],
            "text/plain": [
              "                        source cluster\n",
              "0          21stcenturywire.com       2\n",
              "1                aljazeera.com       0\n",
              "2        americanfreepress.net       2\n",
              "3        canadiandimension.com       1\n",
              "4               egypttoday.com       3\n",
              "5                 france24.com       2\n",
              "6                       rt.com       2\n",
              "7             straitstimes.com       0\n",
              "8              taipeitimes.com       1\n",
              "9  timesofindia.indiatimes.com       1"
            ]
          },
          "metadata": {
            "tags": []
          },
          "execution_count": 124
        }
      ]
    },
    {
      "cell_type": "code",
      "metadata": {
        "colab": {
          "base_uri": "https://localhost:8080/"
        },
        "id": "Qu5hGngVqBMX",
        "outputId": "83973c20-ef53-4f23-c8ef-8892830ef833"
      },
      "source": [
        "y_kmeans = km.predict(mat)\n",
        "\n",
        "y_kmeans"
      ],
      "execution_count": null,
      "outputs": [
        {
          "output_type": "execute_result",
          "data": {
            "text/plain": [
              "array([2, 0, 2, 1, 3, 2, 2, 0, 1, 1], dtype=int32)"
            ]
          },
          "metadata": {
            "tags": []
          },
          "execution_count": 125
        }
      ]
    },
    {
      "cell_type": "code",
      "metadata": {
        "colab": {
          "base_uri": "https://localhost:8080/"
        },
        "id": "ze30zKT-kKnj",
        "outputId": "d626ace4-643f-48a2-edab-06999f925d71"
      },
      "source": [
        "km.cluster_centers_"
      ],
      "execution_count": null,
      "outputs": [
        {
          "output_type": "execute_result",
          "data": {
            "text/plain": [
              "array([[-0.2059909 ,  0.27995053],\n",
              "       [-0.68278387, -2.36826195],\n",
              "       [ 2.33071109,  0.12865773]])"
            ]
          },
          "metadata": {
            "tags": []
          },
          "execution_count": 120
        }
      ]
    },
    {
      "cell_type": "code",
      "metadata": {
        "colab": {
          "base_uri": "https://localhost:8080/"
        },
        "id": "tXYtMrdJnx75",
        "outputId": "c0767f59-6ea0-4bd0-be67-e7e3455c8732"
      },
      "source": [
        "km.cluster_centers_[:,0]"
      ],
      "execution_count": null,
      "outputs": [
        {
          "output_type": "execute_result",
          "data": {
            "text/plain": [
              "array([0.80741207, 0.10773475, 0.25038101])"
            ]
          },
          "metadata": {
            "tags": []
          },
          "execution_count": 80
        }
      ]
    },
    {
      "cell_type": "markdown",
      "metadata": {
        "id": "F-Xms6B1mvza"
      },
      "source": [
        "**Plot Source Custers**"
      ]
    },
    {
      "cell_type": "code",
      "metadata": {
        "colab": {
          "base_uri": "https://localhost:8080/",
          "height": 285
        },
        "id": "DCUgHIa-mzvW",
        "outputId": "74d30e0e-2b22-481a-db66-b9dce3103933"
      },
      "source": [
        "import matplotlib.pyplot as plt\n",
        "\n",
        "\n",
        "fig, ax = plt.subplots()\n",
        "\n",
        "ax.scatter(source_dataframe.fk_score, source_dataframe.mtld, c=y_kmeans, s=100, label = \"Sources\", cmap='viridis')\n",
        "\n",
        "# plt.scatter(X[:, 0], X[:, 1], c=y_kmeans, s=50, cmap='viridis')\n",
        "\n",
        "centers = km.cluster_centers_\n",
        "ax.scatter(centers[:, 0], centers[:, 1], c='black', s=50, alpha=0.5, label = \"Center\");\n",
        "\n",
        "# ax.scatter(source_dataframe.fk_score, source_dataframe.mtld, s=100*source_dataframe.mean_wc, label = \"Sources\")\n",
        "\n",
        "ax.legend(loc='lower right')\n",
        "ax.grid(True)\n",
        "\n",
        "plt.xlabel(\"FK_Score\")\n",
        "plt.ylabel(\"MTLD\")\n",
        "\n",
        "plt.show()"
      ],
      "execution_count": null,
      "outputs": [
        {
          "output_type": "display_data",
          "data": {
            "image/png": "[encoded data removed]",
            "text/plain": [
              "<Figure size 432x288 with 1 Axes>"
            ]
          },
          "metadata": {
            "tags": []
          }
        }
      ]
    },
    {
      "cell_type": "code",
      "metadata": {
        "colab": {
          "base_uri": "https://localhost:8080/",
          "height": 390
        },
        "id": "D61in2uhumx1",
        "outputId": "061db7ec-2596-4de1-9751-66147028060a"
      },
      "source": [
        "source_dataframe"
      ],
      "execution_count": null,
      "outputs": [
        {
          "output_type": "execute_result",
          "data": {
            "text/html": [
              "<div>\n",
              "<style scoped>\n",
              "    .dataframe tbody tr th:only-of-type {\n",
              "        vertical-align: middle;\n",
              "    }\n",
              "\n",
              "    .dataframe tbody tr th {\n",
              "        vertical-align: top;\n",
              "    }\n",
              "\n",
              "    .dataframe thead th {\n",
              "        text-align: right;\n",
              "    }\n",
              "</style>\n",
              "<table border=\"1\" class=\"dataframe\">\n",
              "  <thead>\n",
              "    <tr style=\"text-align: right;\">\n",
              "      <th></th>\n",
              "      <th>mean_wc</th>\n",
              "      <th>mean_sc</th>\n",
              "      <th>fk_score</th>\n",
              "      <th>f_score</th>\n",
              "      <th>ari_score</th>\n",
              "      <th>mattr</th>\n",
              "      <th>mtld</th>\n",
              "    </tr>\n",
              "    <tr>\n",
              "      <th>source</th>\n",
              "      <th></th>\n",
              "      <th></th>\n",
              "      <th></th>\n",
              "      <th></th>\n",
              "      <th></th>\n",
              "      <th></th>\n",
              "      <th></th>\n",
              "    </tr>\n",
              "  </thead>\n",
              "  <tbody>\n",
              "    <tr>\n",
              "      <th>21stcenturywire.com</th>\n",
              "      <td>-0.001467</td>\n",
              "      <td>19.159533</td>\n",
              "      <td>0.171900</td>\n",
              "      <td>18.085680</td>\n",
              "      <td>24.924388</td>\n",
              "      <td>0.906441</td>\n",
              "      <td>0.473598</td>\n",
              "    </tr>\n",
              "    <tr>\n",
              "      <th>aljazeera.com</th>\n",
              "      <td>0.716384</td>\n",
              "      <td>13.627586</td>\n",
              "      <td>2.330711</td>\n",
              "      <td>-22.556949</td>\n",
              "      <td>45.381364</td>\n",
              "      <td>0.909417</td>\n",
              "      <td>0.128658</td>\n",
              "    </tr>\n",
              "    <tr>\n",
              "      <th>americanfreepress.net</th>\n",
              "      <td>0.375305</td>\n",
              "      <td>25.907285</td>\n",
              "      <td>-0.410916</td>\n",
              "      <td>29.969100</td>\n",
              "      <td>19.441079</td>\n",
              "      <td>0.907070</td>\n",
              "      <td>0.468026</td>\n",
              "    </tr>\n",
              "    <tr>\n",
              "      <th>canadiandimension.com</th>\n",
              "      <td>2.443921</td>\n",
              "      <td>56.940828</td>\n",
              "      <td>-0.371978</td>\n",
              "      <td>25.621689</td>\n",
              "      <td>19.773104</td>\n",
              "      <td>0.901308</td>\n",
              "      <td>-0.317913</td>\n",
              "    </tr>\n",
              "    <tr>\n",
              "      <th>egypttoday.com</th>\n",
              "      <td>-0.978207</td>\n",
              "      <td>10.367016</td>\n",
              "      <td>-0.682784</td>\n",
              "      <td>32.337272</td>\n",
              "      <td>16.914204</td>\n",
              "      <td>0.881827</td>\n",
              "      <td>-2.368262</td>\n",
              "    </tr>\n",
              "    <tr>\n",
              "      <th>france24.com</th>\n",
              "      <td>-0.542127</td>\n",
              "      <td>11.058824</td>\n",
              "      <td>0.434153</td>\n",
              "      <td>15.503908</td>\n",
              "      <td>27.979313</td>\n",
              "      <td>0.912539</td>\n",
              "      <td>1.019755</td>\n",
              "    </tr>\n",
              "    <tr>\n",
              "      <th>rt.com</th>\n",
              "      <td>-0.302078</td>\n",
              "      <td>17.550420</td>\n",
              "      <td>-0.350280</td>\n",
              "      <td>29.545382</td>\n",
              "      <td>20.192703</td>\n",
              "      <td>0.911225</td>\n",
              "      <td>1.207681</td>\n",
              "    </tr>\n",
              "    <tr>\n",
              "      <th>straitstimes.com</th>\n",
              "      <td>-0.558015</td>\n",
              "      <td>8.748257</td>\n",
              "      <td>0.789807</td>\n",
              "      <td>7.608864</td>\n",
              "      <td>31.480135</td>\n",
              "      <td>0.908922</td>\n",
              "      <td>-0.168964</td>\n",
              "    </tr>\n",
              "    <tr>\n",
              "      <th>taipeitimes.com</th>\n",
              "      <td>-0.412185</td>\n",
              "      <td>20.963617</td>\n",
              "      <td>-0.907233</td>\n",
              "      <td>41.863491</td>\n",
              "      <td>15.237638</td>\n",
              "      <td>0.911167</td>\n",
              "      <td>0.099250</td>\n",
              "    </tr>\n",
              "    <tr>\n",
              "      <th>timesofindia.indiatimes.com</th>\n",
              "      <td>-0.741531</td>\n",
              "      <td>16.370180</td>\n",
              "      <td>-1.003379</td>\n",
              "      <td>42.157975</td>\n",
              "      <td>14.475870</td>\n",
              "      <td>0.905406</td>\n",
              "      <td>-0.541828</td>\n",
              "    </tr>\n",
              "  </tbody>\n",
              "</table>\n",
              "</div>"
            ],
            "text/plain": [
              "                              mean_wc    mean_sc  ...     mattr      mtld\n",
              "source                                            ...                    \n",
              "21stcenturywire.com         -0.001467  19.159533  ...  0.906441  0.473598\n",
              "aljazeera.com                0.716384  13.627586  ...  0.909417  0.128658\n",
              "americanfreepress.net        0.375305  25.907285  ...  0.907070  0.468026\n",
              "canadiandimension.com        2.443921  56.940828  ...  0.901308 -0.317913\n",
              "egypttoday.com              -0.978207  10.367016  ...  0.881827 -2.368262\n",
              "france24.com                -0.542127  11.058824  ...  0.912539  1.019755\n",
              "rt.com                      -0.302078  17.550420  ...  0.911225  1.207681\n",
              "straitstimes.com            -0.558015   8.748257  ...  0.908922 -0.168964\n",
              "taipeitimes.com             -0.412185  20.963617  ...  0.911167  0.099250\n",
              "timesofindia.indiatimes.com -0.741531  16.370180  ...  0.905406 -0.541828\n",
              "\n",
              "[10 rows x 7 columns]"
            ]
          },
          "metadata": {
            "tags": []
          },
          "execution_count": 127
        }
      ]
    },
    {
      "cell_type": "code",
      "metadata": {
        "id": "OzXhxAQmUii4"
      },
      "source": [
        "from sklearn.datasets import make_blobs\n",
        "from sklearn.cluster import KMeans\n",
        "from sklearn.metrics import silhouette_samples, silhouette_score\n",
        "\n",
        "import matplotlib.pyplot as plt\n",
        "import matplotlib.cm as cm\n",
        "import numpy as np\n",
        "\n",
        "print(__doc__)\n",
        "\n",
        "# Generating the sample data from make_blobs\n",
        "# This particular setting has one distinct cluster and 3 clusters placed close\n",
        "# together.\n",
        "X, y = make_blobs(n_samples=500,\n",
        "                  n_features=2,\n",
        "                  centers=4,\n",
        "                  cluster_std=1,\n",
        "                  center_box=(-10.0, 10.0),\n",
        "                  shuffle=True,\n",
        "                  random_state=1)  # For reproducibility\n",
        "\n",
        "range_n_clusters = [2, 3, 4, 5, 6]\n",
        "\n",
        "for n_clusters in range_n_clusters:\n",
        "    # Create a subplot with 1 row and 2 columns\n",
        "    fig, (ax1, ax2) = plt.subplots(1, 2)\n",
        "    fig.set_size_inches(18, 7)\n",
        "\n",
        "    # The 1st subplot is the silhouette plot\n",
        "    # The silhouette coefficient can range from -1, 1 but in this example all\n",
        "    # lie within [-0.1, 1]\n",
        "    ax1.set_xlim([-0.1, 1])\n",
        "    # The (n_clusters+1)*10 is for inserting blank space between silhouette\n",
        "    # plots of individual clusters, to demarcate them clearly.\n",
        "    ax1.set_ylim([0, len(X) + (n_clusters + 1) * 10])\n",
        "\n",
        "    # Initialize the clusterer with n_clusters value and a random generator\n",
        "    # seed of 10 for reproducibility.\n",
        "    clusterer = KMeans(n_clusters=n_clusters, random_state=10)\n",
        "    cluster_labels = clusterer.fit_predict(mat)\n",
        "\n",
        "    # The silhouette_score gives the average value for all the samples.\n",
        "    # This gives a perspective into the density and separation of the formed\n",
        "    # clusters\n",
        "    silhouette_avg = silhouette_score(mat, cluster_labels)\n",
        "    print(\"For n_clusters =\", n_clusters,\n",
        "          \"The average silhouette_score is :\", silhouette_avg)\n",
        "\n",
        "    # Compute the silhouette scores for each sample\n",
        "    sample_silhouette_values = silhouette_samples(mat, cluster_labels)\n",
        "\n",
        "    y_lower = 10\n",
        "    for i in range(n_clusters):\n",
        "        # Aggregate the silhouette scores for samples belonging to\n",
        "        # cluster i, and sort them\n",
        "        ith_cluster_silhouette_values = \\\n",
        "            sample_silhouette_values[cluster_labels == i]\n",
        "\n",
        "        ith_cluster_silhouette_values.sort()\n",
        "\n",
        "        size_cluster_i = ith_cluster_silhouette_values.shape[0]\n",
        "        y_upper = y_lower + size_cluster_i\n",
        "\n",
        "        color = cm.nipy_spectral(float(i) / n_clusters)\n",
        "        ax1.fill_betweenx(np.arange(y_lower, y_upper),\n",
        "                          0, ith_cluster_silhouette_values,\n",
        "                          facecolor=color, edgecolor=color, alpha=0.7)\n",
        "\n",
        "        # Label the silhouette plots with their cluster numbers at the middle\n",
        "        ax1.text(-0.05, y_lower + 0.5 * size_cluster_i, str(i))\n",
        "\n",
        "        # Compute the new y_lower for next plot\n",
        "        y_lower = y_upper + 10  # 10 for the 0 samples\n",
        "\n",
        "    ax1.set_title(\"The silhouette plot for the various clusters.\")\n",
        "    ax1.set_xlabel(\"The silhouette coefficient values\")\n",
        "    ax1.set_ylabel(\"Cluster label\")\n",
        "\n",
        "    # The vertical line for average silhouette score of all the values\n",
        "    ax1.axvline(x=silhouette_avg, color=\"red\", linestyle=\"--\")\n",
        "\n",
        "    ax1.set_yticks([])  # Clear the yaxis labels / ticks\n",
        "    ax1.set_xticks([-0.1, 0, 0.2, 0.4, 0.6, 0.8, 1])\n",
        "\n",
        "    # 2nd Plot showing the actual clusters formed\n",
        "    colors = cm.nipy_spectral(cluster_labels.astype(float) / n_clusters)\n",
        "    ax2.scatter(mat[:, 0], mat[:, 1], marker='.', s=30, lw=0, alpha=0.7,\n",
        "                c=colors, edgecolor='k')\n",
        "\n",
        "    # Labeling the clusters\n",
        "    centers = clusterer.cluster_centers_\n",
        "    # Draw white circles at cluster centers\n",
        "    ax2.scatter(centers[:, 0], centers[:, 1], marker='o',\n",
        "                c=\"white\", alpha=1, s=200, edgecolor='k')\n",
        "\n",
        "    for i, c in enumerate(centers):\n",
        "        ax2.scatter(c[0], c[1], marker='$%d$' % i, alpha=1,\n",
        "                    s=50, edgecolor='k')\n",
        "\n",
        "    ax2.set_title(\"The visualization of the clustered data.\")\n",
        "    ax2.set_xlabel(\"Feature space for the 1st feature\")\n",
        "    ax2.set_ylabel(\"Feature space for the 2nd feature\")\n",
        "\n",
        "    plt.suptitle((\"Silhouette analysis for KMeans clustering on sample data \"\n",
        "                  \"with n_clusters = %d\" % n_clusters),\n",
        "                 fontsize=14, fontweight='bold')\n",
        "\n",
        "plt.show()"
      ],
      "execution_count": null,
      "outputs": []
    },
    {
      "cell_type": "code",
      "metadata": {
        "id": "F0xov-dx3FaA"
      },
      "source": [
        "cluster_groups = cluster_results.groupby(\"cluster\")"
      ],
      "execution_count": null,
      "outputs": []
    },
    {
      "cell_type": "code",
      "metadata": {
        "id": "HLjgQI9m3Y3c"
      },
      "source": [
        "threshold_size = int(total_num_articles*0.20)\n",
        "\n",
        "data_folder = \"/content/drive/Shareddrives/DARPA/Datasets/Dataset Generation Insights/Source Split/Linguistic Clusters/\"\n",
        "\n",
        "cluster_results.to_csv(data_folder + \"cluster_data.csv\")\n",
        "\n",
        "for cluster_group in cluster_groups:\n",
        "\n",
        "  dataframe = pd.DataFrame()\n",
        "\n",
        "  for group in source_group:\n",
        "\n",
        "    if group[0] in cluster_group[1].source.values:\n",
        "      \n",
        "      if dataframe.empty:\n",
        "        dataframe = group[1]\n",
        "      else:\n",
        "        dataframe = dataframe.append(group[1])\n",
        "\n",
        "      if len(dataframe) > threshold_size:\n",
        "        temp_data = dataframe.sample(n=threshold_size)\n",
        "        \n",
        "        # print(temp_data.groupby(\"label\").count())\n",
        "        temp_data.to_csv(data_folder + \"With Domain Label/intra_cluster_\" + str(cluster_group[0]) + \".csv\")\n",
        "        temp_data[['title', 'content', 'label']].to_csv(data_folder + \"intra_cluster_\" + str(cluster_group[0]) + \".csv\")\n",
        "  "
      ],
      "execution_count": null,
      "outputs": []
    },
    {
      "cell_type": "code",
      "metadata": {
        "colab": {
          "base_uri": "https://localhost:8080/"
        },
        "id": "50FGLWM77ilW",
        "outputId": "cdbfb7ee-98d3-485c-b124-45aa427e1abe"
      },
      "source": [
        "threshold_size = int(total_num_articles*0.20)\n",
        "\n",
        "data_folder = \"/content/drive/Shareddrives/DARPA/Datasets/Dataset Generation Insights/Source Split/Linguistic Clusters/\"\n",
        "\n",
        "cluster_results.to_csv(data_folder + \"cluster_data.csv\")\n",
        "\n",
        "clusters = 0\n",
        "\n",
        "cluster_limit = 3\n",
        "\n",
        "cluster_no = \"123\"\n",
        "\n",
        "dataframe = pd.DataFrame()\n",
        "\n",
        "for cluster_group in cluster_groups:\n",
        "\n",
        "  if cluster_group[0] in [0]:\n",
        "    continue\n",
        "  \n",
        "  clusters +=1\n",
        "\n",
        "  for group in source_group:\n",
        "\n",
        "    if group[0] in cluster_group[1].source.values:\n",
        "      \n",
        "      if dataframe.empty:\n",
        "        dataframe = group[1]\n",
        "      else:\n",
        "        dataframe = dataframe.append(group[1])\n",
        "\n",
        "  if clusters == cluster_limit:\n",
        "    temp_data = dataframe.sample(n=threshold_size, replace=False)\n",
        "    \n",
        "    print(temp_data.groupby(\"domain\").count())\n",
        "    temp_data.to_csv(data_folder + \"With Domain Label/inter_cluster_\" + str(cluster_limit) + \"_\" + cluster_no+ \".csv\")\n",
        "    temp_data[['title', 'content', 'label']].to_csv(data_folder + \"inter_cluster_\" + str(cluster_limit) + \"_\" + cluster_no+ \".csv\")\n",
        "  "
      ],
      "execution_count": null,
      "outputs": [
        {
          "output_type": "stream",
          "text": [
            "                             title  content  label\n",
            "domain                                            \n",
            "21stcenturywire.com            167      167    167\n",
            "americanfreepress.net          290      290    290\n",
            "canadiandimension.com          103      103    103\n",
            "egypttoday.com                 714      714    714\n",
            "france24.com                   295      295    295\n",
            "rt.com                         311      311    311\n",
            "taipeitimes.com               1846     1846   1846\n",
            "timesofindia.indiatimes.com   2034     2034   2034\n"
          ],
          "name": "stdout"
        }
      ]
    }
  ]
}